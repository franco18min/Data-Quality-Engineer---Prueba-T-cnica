{
 "cells": [
  {
   "cell_type": "markdown",
   "source": [
    " # Reporte de calidad de datos"
   ],
   "metadata": {
    "collapsed": false
   },
   "id": "428c69a9852ffedf"
  },
  {
   "cell_type": "markdown",
   "source": [
    "### Importamos librerias necesarias para nuestro reporte de datos"
   ],
   "metadata": {
    "collapsed": false
   },
   "id": "463ea57ff870ce60"
  },
  {
   "cell_type": "code",
   "outputs": [],
   "source": [
    "import pandas as pd\n",
    "import seaborn as sns\n",
    "import matplotlib.pyplot as plt"
   ],
   "metadata": {
    "collapsed": false,
    "ExecuteTime": {
     "end_time": "2024-01-09T04:42:36.124521700Z",
     "start_time": "2024-01-09T04:42:35.085939100Z"
    }
   },
   "id": "6a97aa6d83e59b27",
   "execution_count": 267
  },
  {
   "cell_type": "markdown",
   "source": [
    "### Importamos nuestro dataset"
   ],
   "metadata": {
    "collapsed": false
   },
   "id": "f00c321423c1c660"
  },
  {
   "cell_type": "code",
   "outputs": [],
   "source": [
    "df = pd.read_csv('taylor_swift_spotify.csv')"
   ],
   "metadata": {
    "collapsed": false,
    "ExecuteTime": {
     "end_time": "2024-01-09T04:42:36.299178600Z",
     "start_time": "2024-01-09T04:42:36.122269800Z"
    }
   },
   "id": "22c740897814c350",
   "execution_count": 268
  },
  {
   "cell_type": "markdown",
   "source": [
    "### Visualizamos la dimension de nuestro dataset"
   ],
   "metadata": {
    "collapsed": false
   },
   "id": "32dece2e4faf9e0c"
  },
  {
   "cell_type": "code",
   "outputs": [
    {
     "name": "stdout",
     "output_type": "stream",
     "text": [
      "Cantidad de filas: 539 y cantidad de columnas: 27\n"
     ]
    }
   ],
   "source": [
    "print(\"Cantidad de filas: \" + str(df.shape[0]) + \" y cantidad de columnas: \" + str(df.shape[1]))"
   ],
   "metadata": {
    "collapsed": false,
    "ExecuteTime": {
     "end_time": "2024-01-09T04:42:36.303684700Z",
     "start_time": "2024-01-09T04:42:36.178047500Z"
    }
   },
   "id": "716efc62026e9991",
   "execution_count": 269
  },
  {
   "cell_type": "markdown",
   "source": [
    "### Visualizamos las columnas de nuestro dataset"
   ],
   "metadata": {
    "collapsed": false
   },
   "id": "c2db3dd760c13033"
  },
  {
   "cell_type": "code",
   "outputs": [
    {
     "data": {
      "text/plain": "Index(['artist_id', 'artist_name', 'artist_popularity', 'album_id',\n       'album_name', 'album_release_date', 'album_total_tracks', 'track_id',\n       'track_name', 'track_popularity', 'disc_number', 'duration_ms',\n       'explicit', 'track_number', 'danceability', 'energy', 'key', 'loudness',\n       'mode', 'speechiness', 'acousticness', 'instrumentalness', 'liveness',\n       'valence', 'tempo', 'id', 'time_signature'],\n      dtype='object')"
     },
     "execution_count": 270,
     "metadata": {},
     "output_type": "execute_result"
    }
   ],
   "source": [
    "df.columns"
   ],
   "metadata": {
    "collapsed": false,
    "ExecuteTime": {
     "end_time": "2024-01-09T04:42:36.492908600Z",
     "start_time": "2024-01-09T04:42:36.305814800Z"
    }
   },
   "id": "c87c25d645f6d182",
   "execution_count": 270
  },
  {
   "cell_type": "markdown",
   "source": [
    "### Visualizamos los primeros 5 registros de nuestro dataset"
   ],
   "metadata": {
    "collapsed": false
   },
   "id": "73c2a2e2a25a8396"
  },
  {
   "cell_type": "code",
   "outputs": [
    {
     "data": {
      "text/plain": "            artist_id   artist_name  artist_popularity  \\\n0  06HL4z0CvFAxyc27GX  Taylor Swift                120   \n1  06HL4z0CvFAxyc27GX  Taylor Swift                120   \n2  06HL4z0CvFAxyc27GX  Taylor Swift                120   \n3  06HL4z0CvFAxyc27GX  Taylor Swift                120   \n4  06HL4z0CvFAxyc27GX  Taylor Swift                120   \n\n                 album_id                        album_name  \\\n0  1o59UpKw81iHR0HPiSkJR0  1989 (Taylor's Version) [Deluxe]   \n1  1o59UpKw81iHR0HPiSkJR0  1989 (Taylor's Version) [Deluxe]   \n2  1o59UpKw81iHR0HPiSkJR0  1989 (Taylor's Version) [Deluxe]   \n3  1o59UpKw81iHR0HPiSkJR0  1989 (Taylor's Version) [Deluxe]   \n4  1o59UpKw81iHR0HPiSkJR0  1989 (Taylor's Version) [Deluxe]   \n\n  album_release_date album_total_tracks                track_id  \\\n0         2023-10-27                 22  4WUepByoeqcedHoYhSNHRt   \n1         2023-10-27                 22  0108kcWLnn2HlH2kedi1gn   \n2         2023-10-27                 22  3Vpk1hfMAQme8VJ0SNRSkd   \n3         2023-10-27                 22  1OcSfkeCg9hRC2sFKB4IMJ   \n4         2023-10-27                 22  2k0ZEeAqzvYMcx9Qt5aClQ   \n\n                                      track_name  track_popularity  ...  \\\n0         Welcome To New York (Taylor's Version)                77  ...   \n1                 Blank Space (Taylor's Version)                78  ...   \n2                       Style (Taylor's Version)                79  ...   \n3            Out Of The Woods (Taylor's Version)                78  ...   \n4  All You Had To Do Was Stay (Taylor's Version)                77  ...   \n\n   loudness  mode speechiness  acousticness  instrumentalness  liveness  \\\n0    -4.840     1      0.0327      0.009420          3.66e-05    0.3670   \n1    -5.376     1      0.0670      5.000000                 0    0.1680   \n2    -4.785     0      0.0397      0.000421            0.0197    0.0899   \n3    -5.968     1      0.0447     -0.000537          5.59e-05    0.3850   \n4    -5.579     1      0.0317      0.000656                 0    0.1310   \n\n   valence    tempo                      id  time_signature  \n0    0.685  116.998  4WUepByoeqcedHoYhSNHRt             4.0  \n1    0.701   96.057  0108kcWLnn2HlH2kedi1gn             4.0  \n2    0.305   94.868  3Vpk1hfMAQme8VJ0SNRSkd             4.0  \n3    0.206   92.021  1OcSfkeCg9hRC2sFKB4IMJ             4.0  \n4    0.520   96.997  2k0ZEeAqzvYMcx9Qt5aClQ             4.0  \n\n[5 rows x 27 columns]",
      "text/html": "<div>\n<style scoped>\n    .dataframe tbody tr th:only-of-type {\n        vertical-align: middle;\n    }\n\n    .dataframe tbody tr th {\n        vertical-align: top;\n    }\n\n    .dataframe thead th {\n        text-align: right;\n    }\n</style>\n<table border=\"1\" class=\"dataframe\">\n  <thead>\n    <tr style=\"text-align: right;\">\n      <th></th>\n      <th>artist_id</th>\n      <th>artist_name</th>\n      <th>artist_popularity</th>\n      <th>album_id</th>\n      <th>album_name</th>\n      <th>album_release_date</th>\n      <th>album_total_tracks</th>\n      <th>track_id</th>\n      <th>track_name</th>\n      <th>track_popularity</th>\n      <th>...</th>\n      <th>loudness</th>\n      <th>mode</th>\n      <th>speechiness</th>\n      <th>acousticness</th>\n      <th>instrumentalness</th>\n      <th>liveness</th>\n      <th>valence</th>\n      <th>tempo</th>\n      <th>id</th>\n      <th>time_signature</th>\n    </tr>\n  </thead>\n  <tbody>\n    <tr>\n      <th>0</th>\n      <td>06HL4z0CvFAxyc27GX</td>\n      <td>Taylor Swift</td>\n      <td>120</td>\n      <td>1o59UpKw81iHR0HPiSkJR0</td>\n      <td>1989 (Taylor's Version) [Deluxe]</td>\n      <td>2023-10-27</td>\n      <td>22</td>\n      <td>4WUepByoeqcedHoYhSNHRt</td>\n      <td>Welcome To New York (Taylor's Version)</td>\n      <td>77</td>\n      <td>...</td>\n      <td>-4.840</td>\n      <td>1</td>\n      <td>0.0327</td>\n      <td>0.009420</td>\n      <td>3.66e-05</td>\n      <td>0.3670</td>\n      <td>0.685</td>\n      <td>116.998</td>\n      <td>4WUepByoeqcedHoYhSNHRt</td>\n      <td>4.0</td>\n    </tr>\n    <tr>\n      <th>1</th>\n      <td>06HL4z0CvFAxyc27GX</td>\n      <td>Taylor Swift</td>\n      <td>120</td>\n      <td>1o59UpKw81iHR0HPiSkJR0</td>\n      <td>1989 (Taylor's Version) [Deluxe]</td>\n      <td>2023-10-27</td>\n      <td>22</td>\n      <td>0108kcWLnn2HlH2kedi1gn</td>\n      <td>Blank Space (Taylor's Version)</td>\n      <td>78</td>\n      <td>...</td>\n      <td>-5.376</td>\n      <td>1</td>\n      <td>0.0670</td>\n      <td>5.000000</td>\n      <td>0</td>\n      <td>0.1680</td>\n      <td>0.701</td>\n      <td>96.057</td>\n      <td>0108kcWLnn2HlH2kedi1gn</td>\n      <td>4.0</td>\n    </tr>\n    <tr>\n      <th>2</th>\n      <td>06HL4z0CvFAxyc27GX</td>\n      <td>Taylor Swift</td>\n      <td>120</td>\n      <td>1o59UpKw81iHR0HPiSkJR0</td>\n      <td>1989 (Taylor's Version) [Deluxe]</td>\n      <td>2023-10-27</td>\n      <td>22</td>\n      <td>3Vpk1hfMAQme8VJ0SNRSkd</td>\n      <td>Style (Taylor's Version)</td>\n      <td>79</td>\n      <td>...</td>\n      <td>-4.785</td>\n      <td>0</td>\n      <td>0.0397</td>\n      <td>0.000421</td>\n      <td>0.0197</td>\n      <td>0.0899</td>\n      <td>0.305</td>\n      <td>94.868</td>\n      <td>3Vpk1hfMAQme8VJ0SNRSkd</td>\n      <td>4.0</td>\n    </tr>\n    <tr>\n      <th>3</th>\n      <td>06HL4z0CvFAxyc27GX</td>\n      <td>Taylor Swift</td>\n      <td>120</td>\n      <td>1o59UpKw81iHR0HPiSkJR0</td>\n      <td>1989 (Taylor's Version) [Deluxe]</td>\n      <td>2023-10-27</td>\n      <td>22</td>\n      <td>1OcSfkeCg9hRC2sFKB4IMJ</td>\n      <td>Out Of The Woods (Taylor's Version)</td>\n      <td>78</td>\n      <td>...</td>\n      <td>-5.968</td>\n      <td>1</td>\n      <td>0.0447</td>\n      <td>-0.000537</td>\n      <td>5.59e-05</td>\n      <td>0.3850</td>\n      <td>0.206</td>\n      <td>92.021</td>\n      <td>1OcSfkeCg9hRC2sFKB4IMJ</td>\n      <td>4.0</td>\n    </tr>\n    <tr>\n      <th>4</th>\n      <td>06HL4z0CvFAxyc27GX</td>\n      <td>Taylor Swift</td>\n      <td>120</td>\n      <td>1o59UpKw81iHR0HPiSkJR0</td>\n      <td>1989 (Taylor's Version) [Deluxe]</td>\n      <td>2023-10-27</td>\n      <td>22</td>\n      <td>2k0ZEeAqzvYMcx9Qt5aClQ</td>\n      <td>All You Had To Do Was Stay (Taylor's Version)</td>\n      <td>77</td>\n      <td>...</td>\n      <td>-5.579</td>\n      <td>1</td>\n      <td>0.0317</td>\n      <td>0.000656</td>\n      <td>0</td>\n      <td>0.1310</td>\n      <td>0.520</td>\n      <td>96.997</td>\n      <td>2k0ZEeAqzvYMcx9Qt5aClQ</td>\n      <td>4.0</td>\n    </tr>\n  </tbody>\n</table>\n<p>5 rows × 27 columns</p>\n</div>"
     },
     "execution_count": 271,
     "metadata": {},
     "output_type": "execute_result"
    }
   ],
   "source": [
    "df.head()"
   ],
   "metadata": {
    "collapsed": false,
    "ExecuteTime": {
     "end_time": "2024-01-09T04:42:36.637325Z",
     "start_time": "2024-01-09T04:42:36.502814400Z"
    }
   },
   "id": "fdf8b19cafea4ae",
   "execution_count": 271
  },
  {
   "cell_type": "markdown",
   "source": [
    "**Observaciones**\n",
    "- Podemos notar que tenemos una columna \"id\" que corresponderia al id de la cancion, pero podemos ver que ya existe una columna \"track_id\" que tambien corresponde al id de la cancion y ambas columnas tienen datos repetidos.\n",
    "- Teniendo en cuenta que el reporte de calidad de datos pertenece a la cantate Taylor Swift las columnas \"artist_name\", \"artist_id\" y \"artist_popularity\" no nos servirian para hacer un analisis de los datos o usos posteriores ya que serian siempre el mismo valor.\n",
    "\n",
    "**Impacto potencial** : Las columnas repetidas o con informacion no relevante ocuparan espacio en la RAM innecesario y no agilizaran el procesamiento de los datos para futuros analizis o usos.\n",
    "**Recomendaciones** : Lo ideal seria reemplazar los valores de una columna a otra teniendo en cuenta que una de las columnas  no tenga valores nulos y finalmente eliminar la otra columna"
   ],
   "metadata": {
    "collapsed": false
   },
   "id": "23af6187a29073f4"
  },
  {
   "cell_type": "markdown",
   "source": [
    "### Visualizamos información de nuestro dataset"
   ],
   "metadata": {
    "collapsed": false
   },
   "id": "b1ca10d8dd9f7d72"
  },
  {
   "cell_type": "code",
   "outputs": [
    {
     "name": "stdout",
     "output_type": "stream",
     "text": [
      "<class 'pandas.core.frame.DataFrame'>\n",
      "RangeIndex: 539 entries, 0 to 538\n",
      "Data columns (total 27 columns):\n",
      " #   Column              Non-Null Count  Dtype  \n",
      "---  ------              --------------  -----  \n",
      " 0   artist_id           539 non-null    object \n",
      " 1   artist_name         539 non-null    object \n",
      " 2   artist_popularity   539 non-null    int64  \n",
      " 3   album_id            539 non-null    object \n",
      " 4   album_name          477 non-null    object \n",
      " 5   album_release_date  539 non-null    object \n",
      " 6   album_total_tracks  539 non-null    object \n",
      " 7   track_id            531 non-null    object \n",
      " 8   track_name          532 non-null    object \n",
      " 9   track_popularity    539 non-null    int64  \n",
      " 10  disc_number         539 non-null    int64  \n",
      " 11  duration_ms         539 non-null    int64  \n",
      " 12  explicit            539 non-null    object \n",
      " 13  track_number        539 non-null    int64  \n",
      " 14  danceability        537 non-null    float64\n",
      " 15  energy              537 non-null    float64\n",
      " 16  key                 538 non-null    float64\n",
      " 17  loudness            537 non-null    float64\n",
      " 18  mode                539 non-null    int64  \n",
      " 19  speechiness         538 non-null    float64\n",
      " 20  acousticness        538 non-null    float64\n",
      " 21  instrumentalness    539 non-null    object \n",
      " 22  liveness            538 non-null    float64\n",
      " 23  valence             539 non-null    float64\n",
      " 24  tempo               538 non-null    float64\n",
      " 25  id                  539 non-null    object \n",
      " 26  time_signature      538 non-null    float64\n",
      "dtypes: float64(10), int64(6), object(11)\n",
      "memory usage: 113.8+ KB\n"
     ]
    }
   ],
   "source": [
    "df.info()"
   ],
   "metadata": {
    "collapsed": false,
    "ExecuteTime": {
     "end_time": "2024-01-09T04:42:36.704683100Z",
     "start_time": "2024-01-09T04:42:36.528034Z"
    }
   },
   "id": "7df5aaa33c56f666",
   "execution_count": 272
  },
  {
   "cell_type": "markdown",
   "source": [
    "### Visualizamos los valores nulos de nuestro dataset y la cantidad total"
   ],
   "metadata": {
    "collapsed": false
   },
   "id": "4ddd1657c24824c"
  },
  {
   "cell_type": "code",
   "outputs": [
    {
     "data": {
      "text/plain": "artist_id              0\nartist_name            0\nartist_popularity      0\nalbum_id               0\nalbum_name            62\nalbum_release_date     0\nalbum_total_tracks     0\ntrack_id               8\ntrack_name             7\ntrack_popularity       0\ndisc_number            0\nduration_ms            0\nexplicit               0\ntrack_number           0\ndanceability           2\nenergy                 2\nkey                    1\nloudness               2\nmode                   0\nspeechiness            1\nacousticness           1\ninstrumentalness       0\nliveness               1\nvalence                0\ntempo                  1\nid                     0\ntime_signature         1\ndtype: int64"
     },
     "execution_count": 273,
     "metadata": {},
     "output_type": "execute_result"
    }
   ],
   "source": [
    "df.isnull().sum()"
   ],
   "metadata": {
    "collapsed": false,
    "ExecuteTime": {
     "end_time": "2024-01-09T04:42:36.888938200Z",
     "start_time": "2024-01-09T04:42:36.685371900Z"
    }
   },
   "id": "26398e99d0695368",
   "execution_count": 273
  },
  {
   "cell_type": "code",
   "outputs": [
    {
     "name": "stdout",
     "output_type": "stream",
     "text": [
      "Cantidad de valores nulos en el dataset: 89\n",
      "Cantidad de filas con valores nulos: 74\n"
     ]
    }
   ],
   "source": [
    "print(\"Cantidad de valores nulos en el dataset: \" + str(df.isnull().sum().sum()))\n",
    "#cantidad de filas con valores nulos\n",
    "print(\"Cantidad de filas con valores nulos: \" + str(df.isnull().any(axis=1).sum()))"
   ],
   "metadata": {
    "collapsed": false,
    "ExecuteTime": {
     "end_time": "2024-01-09T04:42:37.025423100Z",
     "start_time": "2024-01-09T04:42:36.806374800Z"
    }
   },
   "id": "e2fb938d6c175906",
   "execution_count": 274
  },
  {
   "cell_type": "markdown",
   "source": [
    "**Observaciones** \n",
    "- Podemos ver que hay valores nulos en las columnas \"album_name\", y las siguientes columna que serian caracteristicas de las canciones tales como \"track_id\",  \"track_name\", \"danceability\", \"energy\", \"key\", \"loudness\", \"speechiness\", \"acousticness\", \"liveness\", \"tempo\" y \"time_signature\" por lo que vamos a ver  a mas detalle estos valores nulos\n",
    "- La cantidad de filas con valores nulos corresponden al 13,72% de las filas totales del dataset\n"
   ],
   "metadata": {
    "collapsed": false
   },
   "id": "fd5c3c42b5d7ab61"
  },
  {
   "cell_type": "markdown",
   "source": [
    "### Vamos a ver los valores nulos de la columna \"album_name\" y \"data_release\" segun el id del album ya que estos albumes no tienen nombre"
   ],
   "metadata": {
    "collapsed": false
   },
   "id": "707c66b6cf87a016"
  },
  {
   "cell_type": "code",
   "outputs": [
    {
     "data": {
      "text/plain": "album_id\n1MPAXuTVL2Ej5x0JHiSPq8    46\n6fyR4wBPwLHKcRtxgd4sGh    16\nName: count, dtype: int64"
     },
     "execution_count": 275,
     "metadata": {},
     "output_type": "execute_result"
    }
   ],
   "source": [
    "df[df['album_name'].isnull()]['album_id'].value_counts()"
   ],
   "metadata": {
    "collapsed": false,
    "ExecuteTime": {
     "end_time": "2024-01-09T04:42:37.225998400Z",
     "start_time": "2024-01-09T04:42:36.991408300Z"
    }
   },
   "id": "22a3f1858fd14c5d",
   "execution_count": 275
  },
  {
   "cell_type": "markdown",
   "source": [
    "**Observacion**: Podemos ver que hay 2 albumes que no tienen nombre con 46 filas y 16 filas respectivamente lo que significaria que hay 62 canciones que no tienen nombre de album.\n",
    "**Impacto potencial**: Los albumes sin nombre no nos servirian para hacer un analisis de los datos en base a los nombres de los albumes y afectaria a la calidad de datos.\n",
    "**Recomendaciones**: Lo ideal seria eliminar estos albumes."
   ],
   "metadata": {
    "collapsed": false
   },
   "id": "f7fdc230db1955eb"
  },
  {
   "cell_type": "markdown",
   "source": [
    "### Vamos a ver la informacion de los datos donde \"track_name\" es nulo"
   ],
   "metadata": {
    "collapsed": false
   },
   "id": "252c104b58206a82"
  },
  {
   "cell_type": "code",
   "outputs": [
    {
     "data": {
      "text/plain": "                   track_id track_name\n77   1QQii3pa5m8MEda0nbkjfw        NaN\n91   02Zkkf2zMkwRGQjZ7T4p8f        NaN\n104  7712gjoih4QoDbXpljEk21        NaN\n391  4FoV729rw7IhoKlMZW5K5V        NaN\n396  71PmZqBXH0RUETqxpwlV0w        NaN\n401  0TvQLMecTE8utzoNmvXRbK        NaN\n408  7gJtmLyPTwKzhGzMBXtuXH        NaN",
      "text/html": "<div>\n<style scoped>\n    .dataframe tbody tr th:only-of-type {\n        vertical-align: middle;\n    }\n\n    .dataframe tbody tr th {\n        vertical-align: top;\n    }\n\n    .dataframe thead th {\n        text-align: right;\n    }\n</style>\n<table border=\"1\" class=\"dataframe\">\n  <thead>\n    <tr style=\"text-align: right;\">\n      <th></th>\n      <th>track_id</th>\n      <th>track_name</th>\n    </tr>\n  </thead>\n  <tbody>\n    <tr>\n      <th>77</th>\n      <td>1QQii3pa5m8MEda0nbkjfw</td>\n      <td>NaN</td>\n    </tr>\n    <tr>\n      <th>91</th>\n      <td>02Zkkf2zMkwRGQjZ7T4p8f</td>\n      <td>NaN</td>\n    </tr>\n    <tr>\n      <th>104</th>\n      <td>7712gjoih4QoDbXpljEk21</td>\n      <td>NaN</td>\n    </tr>\n    <tr>\n      <th>391</th>\n      <td>4FoV729rw7IhoKlMZW5K5V</td>\n      <td>NaN</td>\n    </tr>\n    <tr>\n      <th>396</th>\n      <td>71PmZqBXH0RUETqxpwlV0w</td>\n      <td>NaN</td>\n    </tr>\n    <tr>\n      <th>401</th>\n      <td>0TvQLMecTE8utzoNmvXRbK</td>\n      <td>NaN</td>\n    </tr>\n    <tr>\n      <th>408</th>\n      <td>7gJtmLyPTwKzhGzMBXtuXH</td>\n      <td>NaN</td>\n    </tr>\n  </tbody>\n</table>\n</div>"
     },
     "execution_count": 276,
     "metadata": {},
     "output_type": "execute_result"
    }
   ],
   "source": [
    "# Vamos a ver la informacion de los datos donde “track_name” es nulo y solo esa columna y el id de la cancion\n",
    "df[df['track_name'].isnull()][['track_id', 'track_name']]"
   ],
   "metadata": {
    "collapsed": false,
    "ExecuteTime": {
     "end_time": "2024-01-09T04:42:37.343354Z",
     "start_time": "2024-01-09T04:42:37.239394100Z"
    }
   },
   "id": "d718bcfbcd97e488",
   "execution_count": 276
  },
  {
   "cell_type": "markdown",
   "source": [
    "**Observacion**: Podemos ver que hay 7 canciones que no tiene nombre y pertenecen a albumes diferentes, estos valores faltantes podrian traer errores si quisieramos trabajar con nombres de canciones \n",
    "**Impacto potencial**: Afectaria la calidad de datos y analisis posteriores\n",
    "**Recomendaciones**: Como no son muchas canciones que falta en los albumes, buscar y reemplazar el nombre seria una opcion para tener en cuenta."
   ],
   "metadata": {
    "collapsed": false
   },
   "id": "742af89485e58c9d"
  },
  {
   "cell_type": "markdown",
   "source": [
    "### Vamos a ver la informacion de los datos donde \"track_id\" es nulo solo mostrando las columnas a partid de album_id\n"
   ],
   "metadata": {
    "collapsed": false
   },
   "id": "ab358a9bd1c8d0d8"
  },
  {
   "cell_type": "code",
   "outputs": [
    {
     "data": {
      "text/plain": "                         id     album_name track_id  \\\n321  1ZY1PqizIl78geGM4xWlEA     reputation      NaN   \n363  5zytSTR2g0I9psX2Z12ex6            NaN      NaN   \n375  3nRmDz7qGCvsMS30rGGY0x  1989 (Deluxe)      NaN   \n379  6aLOekfwbytwWvQftxTEF0  1989 (Deluxe)      NaN   \n382  2NlmmAjGYrrjAp0MED5rGx  1989 (Deluxe)      NaN   \n434  1IsquhJFJ0qcFZI7FeAEuN            NaN      NaN   \n442  3lm4L3pPL32PFy74dR17OR            NaN      NaN   \n445  0GxW5K0qzrq7L1jwSY5OmY      Speak Now      NaN   \n\n                                            track_name  \n321                                           Gorgeous  \n363                                     Jump Then Fall  \n375                                Welcome To New York  \n379                         All You Had To Do Was Stay  \n382                                          Bad Blood  \n434  Back To December/Apologize/You're Not Sorry - ...  \n442                              Enchanted - Live/2011  \n445                                     Mine - POP Mix  ",
      "text/html": "<div>\n<style scoped>\n    .dataframe tbody tr th:only-of-type {\n        vertical-align: middle;\n    }\n\n    .dataframe tbody tr th {\n        vertical-align: top;\n    }\n\n    .dataframe thead th {\n        text-align: right;\n    }\n</style>\n<table border=\"1\" class=\"dataframe\">\n  <thead>\n    <tr style=\"text-align: right;\">\n      <th></th>\n      <th>id</th>\n      <th>album_name</th>\n      <th>track_id</th>\n      <th>track_name</th>\n    </tr>\n  </thead>\n  <tbody>\n    <tr>\n      <th>321</th>\n      <td>1ZY1PqizIl78geGM4xWlEA</td>\n      <td>reputation</td>\n      <td>NaN</td>\n      <td>Gorgeous</td>\n    </tr>\n    <tr>\n      <th>363</th>\n      <td>5zytSTR2g0I9psX2Z12ex6</td>\n      <td>NaN</td>\n      <td>NaN</td>\n      <td>Jump Then Fall</td>\n    </tr>\n    <tr>\n      <th>375</th>\n      <td>3nRmDz7qGCvsMS30rGGY0x</td>\n      <td>1989 (Deluxe)</td>\n      <td>NaN</td>\n      <td>Welcome To New York</td>\n    </tr>\n    <tr>\n      <th>379</th>\n      <td>6aLOekfwbytwWvQftxTEF0</td>\n      <td>1989 (Deluxe)</td>\n      <td>NaN</td>\n      <td>All You Had To Do Was Stay</td>\n    </tr>\n    <tr>\n      <th>382</th>\n      <td>2NlmmAjGYrrjAp0MED5rGx</td>\n      <td>1989 (Deluxe)</td>\n      <td>NaN</td>\n      <td>Bad Blood</td>\n    </tr>\n    <tr>\n      <th>434</th>\n      <td>1IsquhJFJ0qcFZI7FeAEuN</td>\n      <td>NaN</td>\n      <td>NaN</td>\n      <td>Back To December/Apologize/You're Not Sorry - ...</td>\n    </tr>\n    <tr>\n      <th>442</th>\n      <td>3lm4L3pPL32PFy74dR17OR</td>\n      <td>NaN</td>\n      <td>NaN</td>\n      <td>Enchanted - Live/2011</td>\n    </tr>\n    <tr>\n      <th>445</th>\n      <td>0GxW5K0qzrq7L1jwSY5OmY</td>\n      <td>Speak Now</td>\n      <td>NaN</td>\n      <td>Mine - POP Mix</td>\n    </tr>\n  </tbody>\n</table>\n</div>"
     },
     "execution_count": 277,
     "metadata": {},
     "output_type": "execute_result"
    }
   ],
   "source": [
    "df[df['track_id'].isnull()][['id', 'album_name', 'track_id', 'track_name']]"
   ],
   "metadata": {
    "collapsed": false,
    "ExecuteTime": {
     "end_time": "2024-01-09T04:42:37.489293200Z",
     "start_time": "2024-01-09T04:42:37.319609700Z"
    }
   },
   "id": "482176c111f6fe19",
   "execution_count": 277
  },
  {
   "cell_type": "markdown",
   "source": [
    "**Observacion**: Podemos ver que estas canciones no tienen informacion en \"track_id\".\n",
    "**Impacto potencial**: Afectaria la calidad de datos y analisis posteriores.\n",
    "**Recomendaciones**: Como bien mencionamos, las columnas \"track_id\" y \"id\" son iguales por lo que podriamos reemplazar los valores de \"track_id\" por los de \"id\", ya que esta columna no contiene datos nulos y los id pertenecen a la misma cancion."
   ],
   "metadata": {
    "collapsed": false
   },
   "id": "99ff42f794ba5547"
  },
  {
   "cell_type": "markdown",
   "source": [
    "### Vamos a ver la informacion de los datos donde \"danceability\", \"energy\", \"key\", \"loudness\", \"speechiness\", \"acousticness\", \"liveness\", \"tempo\" y \"time_signature\" es nulo"
   ],
   "metadata": {
    "collapsed": false
   },
   "id": "3163993b42cfdb1d"
  },
  {
   "cell_type": "code",
   "outputs": [
    {
     "data": {
      "text/plain": "                   album_id album_name album_release_date album_total_tracks  \\\n330  1MPAXuTVL2Ej5x0JHiSPq8        NaN         2017-11-09                 46   \n334  1MPAXuTVL2Ej5x0JHiSPq8        NaN         2017-11-09                 46   \n341  1MPAXuTVL2Ej5x0JHiSPq8        NaN         2017-11-09                 46   \n363  1MPAXuTVL2Ej5x0JHiSPq8        NaN         2017-11-09                 46   \n431  6fyR4wBPwLHKcRtxgd4sGh        NaN         2010-10-25                 16   \n432  6fyR4wBPwLHKcRtxgd4sGh        NaN         2010-10-25                 16   \n\n                   track_id                                   track_name  \\\n330  22C0JIVhFaczZ4t9heqREN                               Wildest Dreams   \n334  7eGeUVeCEvEQrivmjl9Qn3  Teardrops On My Guitar - Radio Single Remix   \n341  41T04yafZVrjNq2FqvLtId                                So It Goes...   \n363                     NaN                               Jump Then Fall   \n431  72GIZuUXo14oyrS0si3Rgc                       The Story Of Us - Live   \n432  7mFiEij8AXPUZB7aKLbUlQ                             Mean - Live/2011   \n\n     track_popularity  disc_number  duration_ms explicit  ...  loudness  mode  \\\n330                45            1       220440    False  ...       NaN     1   \n334                38            1       204706    False  ...       NaN     1   \n341                59            1       227906    False  ...    -7.283     1   \n363                32            1       238093    False  ...    -5.712     1   \n431                48            1       290520    False  ...    -5.156     1   \n432                47            1         1000    False  ...    -4.373     1   \n\n     speechiness  acousticness  instrumentalness  liveness  valence    tempo  \\\n330          NaN        0.0692           0.00144     0.106    0.465  139.997   \n334       0.0234        0.3130                 0     0.138    0.263   99.959   \n341       0.0732        0.1220           1.1e-06       NaN    0.374   74.957   \n363       0.0274        0.1130                 0     0.074    0.818   80.007   \n431       0.0651           NaN                 0     0.815    0.472  139.813   \n432       0.0690        0.1540                 0     0.693    0.432      NaN   \n\n                         id  time_signature  \n330  22C0JIVhFaczZ4t9heqREN             4.0  \n334  7eGeUVeCEvEQrivmjl9Qn3             4.0  \n341  41T04yafZVrjNq2FqvLtId             4.0  \n363  5zytSTR2g0I9psX2Z12ex6             NaN  \n431  72GIZuUXo14oyrS0si3Rgc             4.0  \n432  7mFiEij8AXPUZB7aKLbUlQ             4.0  \n\n[6 rows x 24 columns]",
      "text/html": "<div>\n<style scoped>\n    .dataframe tbody tr th:only-of-type {\n        vertical-align: middle;\n    }\n\n    .dataframe tbody tr th {\n        vertical-align: top;\n    }\n\n    .dataframe thead th {\n        text-align: right;\n    }\n</style>\n<table border=\"1\" class=\"dataframe\">\n  <thead>\n    <tr style=\"text-align: right;\">\n      <th></th>\n      <th>album_id</th>\n      <th>album_name</th>\n      <th>album_release_date</th>\n      <th>album_total_tracks</th>\n      <th>track_id</th>\n      <th>track_name</th>\n      <th>track_popularity</th>\n      <th>disc_number</th>\n      <th>duration_ms</th>\n      <th>explicit</th>\n      <th>...</th>\n      <th>loudness</th>\n      <th>mode</th>\n      <th>speechiness</th>\n      <th>acousticness</th>\n      <th>instrumentalness</th>\n      <th>liveness</th>\n      <th>valence</th>\n      <th>tempo</th>\n      <th>id</th>\n      <th>time_signature</th>\n    </tr>\n  </thead>\n  <tbody>\n    <tr>\n      <th>330</th>\n      <td>1MPAXuTVL2Ej5x0JHiSPq8</td>\n      <td>NaN</td>\n      <td>2017-11-09</td>\n      <td>46</td>\n      <td>22C0JIVhFaczZ4t9heqREN</td>\n      <td>Wildest Dreams</td>\n      <td>45</td>\n      <td>1</td>\n      <td>220440</td>\n      <td>False</td>\n      <td>...</td>\n      <td>NaN</td>\n      <td>1</td>\n      <td>NaN</td>\n      <td>0.0692</td>\n      <td>0.00144</td>\n      <td>0.106</td>\n      <td>0.465</td>\n      <td>139.997</td>\n      <td>22C0JIVhFaczZ4t9heqREN</td>\n      <td>4.0</td>\n    </tr>\n    <tr>\n      <th>334</th>\n      <td>1MPAXuTVL2Ej5x0JHiSPq8</td>\n      <td>NaN</td>\n      <td>2017-11-09</td>\n      <td>46</td>\n      <td>7eGeUVeCEvEQrivmjl9Qn3</td>\n      <td>Teardrops On My Guitar - Radio Single Remix</td>\n      <td>38</td>\n      <td>1</td>\n      <td>204706</td>\n      <td>False</td>\n      <td>...</td>\n      <td>NaN</td>\n      <td>1</td>\n      <td>0.0234</td>\n      <td>0.3130</td>\n      <td>0</td>\n      <td>0.138</td>\n      <td>0.263</td>\n      <td>99.959</td>\n      <td>7eGeUVeCEvEQrivmjl9Qn3</td>\n      <td>4.0</td>\n    </tr>\n    <tr>\n      <th>341</th>\n      <td>1MPAXuTVL2Ej5x0JHiSPq8</td>\n      <td>NaN</td>\n      <td>2017-11-09</td>\n      <td>46</td>\n      <td>41T04yafZVrjNq2FqvLtId</td>\n      <td>So It Goes...</td>\n      <td>59</td>\n      <td>1</td>\n      <td>227906</td>\n      <td>False</td>\n      <td>...</td>\n      <td>-7.283</td>\n      <td>1</td>\n      <td>0.0732</td>\n      <td>0.1220</td>\n      <td>1.1e-06</td>\n      <td>NaN</td>\n      <td>0.374</td>\n      <td>74.957</td>\n      <td>41T04yafZVrjNq2FqvLtId</td>\n      <td>4.0</td>\n    </tr>\n    <tr>\n      <th>363</th>\n      <td>1MPAXuTVL2Ej5x0JHiSPq8</td>\n      <td>NaN</td>\n      <td>2017-11-09</td>\n      <td>46</td>\n      <td>NaN</td>\n      <td>Jump Then Fall</td>\n      <td>32</td>\n      <td>1</td>\n      <td>238093</td>\n      <td>False</td>\n      <td>...</td>\n      <td>-5.712</td>\n      <td>1</td>\n      <td>0.0274</td>\n      <td>0.1130</td>\n      <td>0</td>\n      <td>0.074</td>\n      <td>0.818</td>\n      <td>80.007</td>\n      <td>5zytSTR2g0I9psX2Z12ex6</td>\n      <td>NaN</td>\n    </tr>\n    <tr>\n      <th>431</th>\n      <td>6fyR4wBPwLHKcRtxgd4sGh</td>\n      <td>NaN</td>\n      <td>2010-10-25</td>\n      <td>16</td>\n      <td>72GIZuUXo14oyrS0si3Rgc</td>\n      <td>The Story Of Us - Live</td>\n      <td>48</td>\n      <td>1</td>\n      <td>290520</td>\n      <td>False</td>\n      <td>...</td>\n      <td>-5.156</td>\n      <td>1</td>\n      <td>0.0651</td>\n      <td>NaN</td>\n      <td>0</td>\n      <td>0.815</td>\n      <td>0.472</td>\n      <td>139.813</td>\n      <td>72GIZuUXo14oyrS0si3Rgc</td>\n      <td>4.0</td>\n    </tr>\n    <tr>\n      <th>432</th>\n      <td>6fyR4wBPwLHKcRtxgd4sGh</td>\n      <td>NaN</td>\n      <td>2010-10-25</td>\n      <td>16</td>\n      <td>7mFiEij8AXPUZB7aKLbUlQ</td>\n      <td>Mean - Live/2011</td>\n      <td>47</td>\n      <td>1</td>\n      <td>1000</td>\n      <td>False</td>\n      <td>...</td>\n      <td>-4.373</td>\n      <td>1</td>\n      <td>0.0690</td>\n      <td>0.1540</td>\n      <td>0</td>\n      <td>0.693</td>\n      <td>0.432</td>\n      <td>NaN</td>\n      <td>7mFiEij8AXPUZB7aKLbUlQ</td>\n      <td>4.0</td>\n    </tr>\n  </tbody>\n</table>\n<p>6 rows × 24 columns</p>\n</div>"
     },
     "execution_count": 278,
     "metadata": {},
     "output_type": "execute_result"
    }
   ],
   "source": [
    "df_filtered = df[df['danceability'].isnull() | df['energy'].isnull() | df['key'].isnull() | df['loudness'].isnull() | df['speechiness'].isnull() | df['acousticness'].isnull() | df['liveness'].isnull() | df['tempo'].isnull() | df['time_signature'].isnull()]\n",
    "df_filtered = df_filtered.iloc[:, 3:]\n",
    "df_filtered"
   ],
   "metadata": {
    "collapsed": false,
    "ExecuteTime": {
     "end_time": "2024-01-09T04:42:37.812863400Z",
     "start_time": "2024-01-09T04:42:37.496900Z"
    }
   },
   "id": "e459e4f89f7033d",
   "execution_count": 278
  },
  {
   "cell_type": "markdown",
   "source": [
    "**Observacion**: Podemos ver que hay 6 canciones que no tienen alguna de la informacion que se mencionan en estas columnas y algo tambien a tener en cuenta es que estas canciones pertenecen a albumes que no tienen nombre por lo que estariamos con datos de muy baja calidad.\n",
    "**Impacto potencial**: Afectaria la calidad de datos y analisis posteriores si nos basamos en alguna de las caracteristicas de las canciones para poder trabajar.\n",
    "**Recomendaciones**: Como estas canciones pertenecen a albumes que no tienen nombre, lo ideal seria eliminar estos albumes."
   ],
   "metadata": {
    "collapsed": false
   },
   "id": "bbdab1c784836723"
  },
  {
   "cell_type": "markdown",
   "source": [
    "### Vamos a ver cuantas canciones hay por album y tomar como referencia la columna album_total_tracks"
   ],
   "metadata": {
    "collapsed": false
   },
   "id": "fa7f7675e5097715"
  },
  {
   "cell_type": "code",
   "outputs": [
    {
     "data": {
      "text/plain": "album_name                                                                           album_total_tracks\n1989                                                                                 13                    13\n1989 (Deluxe)                                                                        19                    19\n1989 (Taylor's Version)                                                              21                    21\n1989 (Taylor's Version) [Deluxe]                                                     22                    22\nFearless (International Version)                                                     16                    16\nFearless (Platinum Edition)                                                          19                    19\nFearless (Taylor's Version)                                                          26                    26\nLive From Clear Channel Stripped 2008                                                8                      8\nLover                                                                                18                    36\nMidnights                                                                            13                    13\nMidnights (3am Edition)                                                              20                    20\nMidnights (The Til Dawn Edition)                                                     24                    24\nRed (Deluxe Edition)                                                                 22                    22\nRed (Taylor's Version)                                                               34                    30\nSpeak Now                                                                            14                    14\nSpeak Now (Deluxe Package)                                                           22                    22\nSpeak Now (Taylor's Version)                                                         22                    22\nTaylor Swift                                                                         Thirteen              15\nevermore                                                                             10                    15\nevermore (deluxe version)                                                            17                    17\nfolklore                                                                             16                    16\nfolklore (deluxe version)                                                            17                    17\nfolklore: the long pond studio sessions (from the Disney+ special) [deluxe edition]  34                    34\nreputation                                                                           15                    16\nName: count, dtype: int64"
     },
     "execution_count": 279,
     "metadata": {},
     "output_type": "execute_result"
    }
   ],
   "source": [
    "df.groupby('album_name')['album_total_tracks'].value_counts()"
   ],
   "metadata": {
    "collapsed": false,
    "ExecuteTime": {
     "end_time": "2024-01-09T04:42:37.936292900Z",
     "start_time": "2024-01-09T04:42:37.653270500Z"
    }
   },
   "id": "2f757fc7b80f1d55",
   "execution_count": 279
  },
  {
   "cell_type": "markdown",
   "source": [
    "**observacion**: \"album_total_tracks\" nos indica la cantidad de canciones que tiene en total cada album, pero podemos notar que hay albumes que tienenn mas canciones que la columna de referencia por lo que podriamos tener datos erroneos, es decir canciones duplicadas en el caso mas comun.\n",
    "**Impacto potencial**: Afectaria la calidad de datos.\n",
    "**Recomendaciones**: Lo ideal seria eliminar las canciones duplicadas."
   ],
   "metadata": {
    "collapsed": false
   },
   "id": "df488e6fd1cd7be8"
  },
  {
   "cell_type": "markdown",
   "source": [
    "## Hacemos una revision general si no hay errores en los datos de las diferentes columnas\n",
    "\n",
    "- Se analizara valores unicos de cada columna\n",
    "- Se analizara valores negativos de cada columna\n",
    "- Se analizara los tipos de datos en las columnas\n",
    "- Se analizara los valores fuera de intervalo de las columnas segun la documentacion.\n",
    "\n",
    "**Nota**: Se tratara el tema de outliers en la seccion correspondiente"
   ],
   "metadata": {
    "collapsed": false
   },
   "id": "b95a857188213a79"
  },
  {
   "cell_type": "markdown",
   "source": [
    "#### \"artist_popularity\""
   ],
   "metadata": {
    "collapsed": false
   },
   "id": "6a3066d5ad8eccd8"
  },
  {
   "cell_type": "code",
   "outputs": [
    {
     "data": {
      "text/plain": "array([120], dtype=int64)"
     },
     "execution_count": 280,
     "metadata": {},
     "output_type": "execute_result"
    }
   ],
   "source": [
    "df['artist_popularity'].unique()"
   ],
   "metadata": {
    "collapsed": false,
    "ExecuteTime": {
     "end_time": "2024-01-09T04:42:38.183383300Z",
     "start_time": "2024-01-09T04:42:37.911431700Z"
    }
   },
   "id": "73eddc69334d2418",
   "execution_count": 280
  },
  {
   "cell_type": "markdown",
   "source": [
    "**Observacion**: Sin anomalias en los datos"
   ],
   "metadata": {
    "collapsed": false
   },
   "id": "611645f36640bd73"
  },
  {
   "cell_type": "markdown",
   "source": [
    "#### \"album_id\""
   ],
   "metadata": {
    "collapsed": false
   },
   "id": "28fe74aef30d3005"
  },
  {
   "cell_type": "code",
   "outputs": [
    {
     "data": {
      "text/plain": "array(['1o59UpKw81iHR0HPiSkJR0', '64LU4c1nfjz1t4VnGhagcg',\n       '5AEDGbliTTfjOB8TSm1sxt', '1fnJ7k0bllNfL1kVdNVW1A',\n       '3lS1y25WAhcqJDATJK70Mq', '151w1FgRZfnKZA9FEcg9Z3',\n       '6kZ42qRrzov54LcAk4onW9', '4hDok0OAJd57SGIT8xuWJH',\n       '6AORtDjduMM3bupSWzbTSG', '2Xoteh7uEpea4TohMxjtaq',\n       '0PZ7lAru5FDFHuirTkWe9Z', '1pzvBxYgT6OVwJLtHkrdQK',\n       '2fenSS68JI1h4Fo296JfGr', '1NAmidJlEaVgA3MpcPFYGq',\n       '6DEjYFkNZh67HP7R9PSZvv', '1MPAXuTVL2Ej5x0JHiSPq8',\n       '1yGbNOtRIgdIiGHOEBaZWf', '5fy0X0JmZRZnVa2UEicIOl',\n       '1KVKqWeRuXsJDLTW0VuD29', '6fyR4wBPwLHKcRtxgd4sGh',\n       '6Ar2o9KCqcyYF9J0aQP3au', '6S6JQWzUrJVcJLK4fi74Fw',\n       '2gP2LMVcIFgVczSJqn340t', '08CWGiv27MVQhYpuTtvx83',\n       '1ycoesYxIFymXWebfmz828', '5eyZZoQEFQWRHkV2xgAeBw'], dtype=object)"
     },
     "execution_count": 281,
     "metadata": {},
     "output_type": "execute_result"
    }
   ],
   "source": [
    "df['album_id'].unique()"
   ],
   "metadata": {
    "collapsed": false,
    "ExecuteTime": {
     "end_time": "2024-01-09T04:42:38.466934200Z",
     "start_time": "2024-01-09T04:42:38.154642800Z"
    }
   },
   "id": "7664bae4c1d310c5",
   "execution_count": 281
  },
  {
   "cell_type": "markdown",
   "source": [
    "**Observacion**: Sin anomalias en los datos"
   ],
   "metadata": {
    "collapsed": false
   },
   "id": "fcfd3079f5752c67"
  },
  {
   "cell_type": "markdown",
   "source": [
    "#### \"album_name\""
   ],
   "metadata": {
    "collapsed": false
   },
   "id": "677c2e0815829496"
  },
  {
   "cell_type": "code",
   "outputs": [
    {
     "data": {
      "text/plain": "array([\"1989 (Taylor's Version) [Deluxe]\", \"1989 (Taylor's Version)\",\n       \"Speak Now (Taylor's Version)\", 'Midnights (The Til Dawn Edition)',\n       'Midnights (3am Edition)', 'Midnights', \"Red (Taylor's Version)\",\n       \"Fearless (Taylor's Version)\", 'evermore (deluxe version)',\n       'evermore',\n       'folklore: the long pond studio sessions (from the Disney+ special) [deluxe edition]',\n       'folklore (deluxe version)', 'folklore', 'Lover', 'reputation',\n       nan, '1989 (Deluxe)', '1989', 'Red (Deluxe Edition)', 'Speak Now',\n       'Speak Now (Deluxe Package)', 'Fearless (Platinum Edition)',\n       'Fearless (International Version)',\n       'Live From Clear Channel Stripped 2008', 'Taylor Swift'],\n      dtype=object)"
     },
     "execution_count": 282,
     "metadata": {},
     "output_type": "execute_result"
    }
   ],
   "source": [
    "df['album_name'].unique()"
   ],
   "metadata": {
    "collapsed": false,
    "ExecuteTime": {
     "end_time": "2024-01-09T04:42:38.699405400Z",
     "start_time": "2024-01-09T04:42:38.439693100Z"
    }
   },
   "id": "7feb60b2e451ba42",
   "execution_count": 282
  },
  {
   "cell_type": "markdown",
   "source": [],
   "metadata": {
    "collapsed": false
   },
   "id": "85707afee0953b9"
  },
  {
   "cell_type": "markdown",
   "source": [
    "**Observacion**: Hay un album con valor nulo pero este problems fue analizado en valores nulos del dataset"
   ],
   "metadata": {
    "collapsed": false
   },
   "id": "7dc9e54b06317456"
  },
  {
   "cell_type": "markdown",
   "source": [
    "#### \"album_release_date\""
   ],
   "metadata": {
    "collapsed": false
   },
   "id": "c774ae1e3f5bc4f4"
  },
  {
   "cell_type": "code",
   "outputs": [
    {
     "data": {
      "text/plain": "array(['2023-10-27', '2023-10-26', '2023-07-07', '2027-05-26',\n       '2022-10-22', '2022-10-21', '2021-11-12', '2021-04-09',\n       '2021-01-07', '2020-12-11', '2020-11-25', '2020-08-18',\n       '2020-07-24', '2019-08-23', '2017-11-10', '2017-11-09',\n       '2014-01-01', '2012-10-22', '2010-10-25', '2010-01-01',\n       '2008-11-11', '2008-06-28', '1989-10-24'], dtype=object)"
     },
     "execution_count": 283,
     "metadata": {},
     "output_type": "execute_result"
    }
   ],
   "source": [
    "df['album_release_date'].unique()"
   ],
   "metadata": {
    "collapsed": false,
    "ExecuteTime": {
     "end_time": "2024-01-09T04:42:38.799628Z",
     "start_time": "2024-01-09T04:42:38.670090300Z"
    }
   },
   "id": "3d0ced777a9bff7a",
   "execution_count": 283
  },
  {
   "cell_type": "markdown",
   "source": [
    "**Observacion**: Sin anomalias en los datos"
   ],
   "metadata": {
    "collapsed": false
   },
   "id": "6eaa605673782bcb"
  },
  {
   "cell_type": "markdown",
   "source": [
    "#### \"album_total_tracks\""
   ],
   "metadata": {
    "collapsed": false
   },
   "id": "acc1b08e68fd2f35"
  },
  {
   "cell_type": "code",
   "outputs": [
    {
     "data": {
      "text/plain": "array(['22', '21', '24', '20', '13', '34', '26', '17', '10', '16', '18',\n       '15', '46', '19', '14', '8', 'Thirteen'], dtype=object)"
     },
     "execution_count": 284,
     "metadata": {},
     "output_type": "execute_result"
    }
   ],
   "source": [
    "df['album_total_tracks'].unique()"
   ],
   "metadata": {
    "collapsed": false,
    "ExecuteTime": {
     "end_time": "2024-01-09T04:42:39.043058200Z",
     "start_time": "2024-01-09T04:42:38.775847100Z"
    }
   },
   "id": "254f963ff4a85387",
   "execution_count": 284
  },
  {
   "cell_type": "markdown",
   "source": [
    "**Observacion**: Hay un album con un valor en letras a diferencia de los demas que estan representados por numeros.\n",
    "**Impacto potencial**: Afectaria la calidad de datos y si quisiera trabajar con datos que sean numeros enteros.\n",
    "**Recomendaciones**: Lo ideal seria reemplazar el valor por un numero entero."
   ],
   "metadata": {
    "collapsed": false
   },
   "id": "b8cd5de7c00379a8"
  },
  {
   "cell_type": "markdown",
   "source": [
    "#### \"track_id\""
   ],
   "metadata": {
    "collapsed": false
   },
   "id": "aab635529c2c956a"
  },
  {
   "cell_type": "code",
   "outputs": [
    {
     "data": {
      "text/plain": "array(['4WUepByoeqcedHoYhSNHRt', '0108kcWLnn2HlH2kedi1gn',\n       '3Vpk1hfMAQme8VJ0SNRSkd', '1OcSfkeCg9hRC2sFKB4IMJ',\n       '2k0ZEeAqzvYMcx9Qt5aClQ', '50yNTF0Od55qnHLxYsA5Pw',\n       '3FxJDucHWdw6caWTKO5b23', '7oZONwFiFIErZcXAtTu7FY',\n       '27exgla7YBw9DUNNcTIpjy', '733OhaXQIHY7BKtY3vnSkn',\n       '4WBEj8TeGtRPNJdOmT3WJW', '1ULabO0PEsdJekqVH6G10G',\n       '0lKUBmEyQfzsQHozyeXzES', '6HRsJu8vcnzYDN4t0570FY',\n       '0TyGh27YQ5LknmiDhCzJiT', '5M787RexsAiVYjQusM98CV',\n       '0CD7DzeCsuPJygddqlUVYa', '3CCRVu4F91Qp2mnGjmWBrf',\n       '5QUIK7ZtziW8kGWo8RqopF', '6M9ppdfFjR1AbpUl3Y8DcV',\n       '6IG3sQ8s9nfk6TUlVzRhbN', '6qAcApH8obo8eqatCKUHd9',\n       '1hR8BSuEqPCCZfv93zzzz9', '45wMBGri1PORPjM9PwFfrS',\n       '1hjRhYpWyqDpPahmSlUTlc', '045ZeOHPIzhxxsm8bq5kyE',\n       '6GXgd1BPD9bUpqw5AntGV5', '3pv7Q5v2dpdefwdWIvE7yH',\n       '43y1WpBdnEy5TR9aZoSQL9', '64FzgoLZ3oXu2SriZblHic',\n       '1K39ty6o1sHwwlZwO6a7wK', '75W3SngKzTuoQ94uLf3y82',\n       '5QVVjX0ZItqlVpEuVCM9Yg', '2f0GI2ZLUtbGqFx8t2Gk6A',\n       '2ByBBvpR9b7IynvRmnG7kG', '2ve0kuaWUCt4Zx8x4bf1MR',\n       '4UwqOWDpdeIDVQDuKT6iza', '2vPMoMDXxu9uX1igWZmXSG',\n       '71BqAINEnezjQfxE4VuJfq', '4NioO5R9sHEZh4cGzMHyNt',\n       '5KD6AEm19QnMbfWpfoOHMl', '6T0sEnqjmHISIKwFETeeiP',\n       '1Iq8oo9XkmmvCQiGOfORiz', '7G0gBu6nLdhFDPRLc0HdDG',\n       '3MytWN8L7shNYzGl4tAKRp', '79uDOz0zuuWS7HWxzMmTa2',\n       '5xXqyjLicvEpch72qEryFT', '1zU8j1x3yi9xalMF96pzKp',\n       '30Y4CV7A6YqtQtTTo7Ue4j', '6dTA6y0C2ReQklntzZl8l3',\n       '2EFZ9emtKWEglWUQGEQ3P9', '3sW3oSbzsfecv9XoUdGs7h',\n       '0NwGC0v03ysCYINtg6ns58', '12nBPF4Rh4XLFJV0YLN7uj',\n       '4tMzIAFTFdqGBQLdfbPces', '59KOoHFcw5XfICnO57holu',\n       '4hqJ4bSlYJOXb6Z4SRmzxs', '3yNJkriPzWjkkDAWHIAVUq',\n       '4evLyY5Ue1Wesc61t2KXAU', '4e3ZNTAV6PCrdYMUrUlMpQ',\n       '0zo975x58DlXbZllWvfYhg', '5kHMfzgLZP95O9NBy0ku4v',\n       '4ABYxlb92WBIjHu7TIKmml', '4s8BIKx4Zh6ryAEz8RTlaU',\n       '1HCdems7PQZRj42QDWLA0A', '24emu3sabKISjRkrys28jq',\n       '6qxvy9Pe4RJIq5JBVbbwbS', '5qIHFdkW6phMsTZlN2g8Lc',\n       '7GA86Uo2jYbj8vIXe2nyWd', '6PQOU00xWNrGwCZzboriXy',\n       '4eKMqf9ZMSclDX7V9Ptg7x', '7oomkQSYf1ia2VnVEWfFIU',\n       '0GKDhq6ZbmSbRHd3eyGlB7', '0VpF6RLdCfPIeYRwMu4tZK',\n       '4bBDkw2KBMX0tcgAaXC83Q', '45R112Jz5hQeKgITXgSXzs',\n       '2L09RYwH5Pjzca6PmbUAw3', '1QQii3pa5m8MEda0nbkjfw',\n       '2VuqMjgoKaOHNM8HpxtXKx', '71CBDRKmF2VeRKYMG1DFBh',\n       '5tWxKWq1DSP1s9WQ5PWuqu', '1SztNGCwEHJEVFx90E5g7D',\n       '7C0w28EsX0Um2FrZs9gso2', '4txojlesMFQZGWxwz2EeqB',\n       '10GRRCR5fctuOF4GFmATJI', '3xYJScVfxByb61dYHTwiby',\n       '4zmKGsrXjLmljb5fTaBTot', '4i6cwNY6oIUU2XZxPIw82Y',\n       '4g2c7NoTWAOSYDy44l9nub', '199E1RRrVmVTQqBXih5qRC',\n       '02Zkkf2zMkwRGQjZ7T4p8f', '6ADDIJxxqzM9LMpm78yzQG',\n       '7gVWKBcfIW93YxNBi3ApIE', '6Nl7KyvjkFncGsjB49SxLl',\n       '6C7OF1Jal7YkyjzyUG8vkK', '5yeuXkukVGuix3vmLu2BPJ',\n       '0jvo9CjnbR0lYUDTSNTMiu', '43q586vP8gGkYypKoSddhl',\n       '5oqDgw5VGBln5dSIOPWyBq', '3zmwONxswBAzGwExPugSLN',\n       '56hioFjQ0DXrdn04hZcFgG', '3UMrglJeju5yWyYIW6o99b',\n       '0BiqmkasE5FdrChwKfVp8X', '7712gjoih4QoDbXpljEk21',\n       '5kiZGSxgqPdv6rbqL9THdd', '6wAFvJPpTZVirBKGZ4EnMW',\n       '0aV5uARAknQgYhBaK944FP', '3QF5RsWzK1lCvf2o2cY65P',\n       '5jQI2r1RdgtuT8S3iG8zFC', '3eX0NZfLtGzoLUxPNvRfqm',\n       '0V3wPSX9ygBnCm8psDIegu', '1wtOxkiel43cVs0Yux5Q4h',\n       '4D7BCuvgdJlYvlX5WlN54t', '3rWDp9tBPQR9z6U5YyRSK4',\n       '0heeNYlwOGuUSe7TgUD27B', '1xwAWUI6Dj0WGC3KiUPN0O',\n       '3qoftcUZaUOncvIYjFSPdE', '0A1JLUlkZkp2EFrosoNQi0',\n       '7KokYm8cMIXCsGVmUvKtqf', '0wavGRldH0AWyu2zvTz8zb',\n       '7FmYn9e7KHMXcxqGSj9LjH', '6lzc0Al0zfZOIFsFvBS1ki',\n       '4OAuvHryIVv4kMDNSLuPt6', '3S7HNKPakdwNEBFIVTL6dZ',\n       '6AtZLIzUINvExIUy4QhdjP', '3nsfB1vus2qaloUdcBZvDu',\n       '3yII7UwgLF6K5zW3xad3MP', '2r9CbjYgFhtAmcFv1cSquB',\n       '5YqltLsjdqFtvqE7Nrysvs', '7eQj6r5PIdYKEIZjucBMcq',\n       '0y6kdSRCVQhSsHSpWvTUm7', '7J4b3LVCIGO4CMBDFLPoP6',\n       '73qMN9bXy7MSPwwGfH3wQr', '4e5ayHsOLJNLTGfjau2mEw',\n       '7qEUFOVcxRI19tbT68JcYK', '7A2cNLRT0YJc1yjxHlKihs',\n       '05GsNucq8Bngd9fnd4fRa0', '0NRHj8hDwwmSPaA41o379r',\n       '4pNApnaUWAL2J4KO2eqokq', '0DMVrlMUn01M0IcpDbwgu7',\n       '5jAIouBES8LWMiriuNq170', '7nWui6jiMM2m9qFmET1Mtj',\n       '4OmFmE0fzcMG6g0Y8p4eSD', '01K4zKU104LyJ8gMb7227B',\n       '0v4z1tuZvn6LGknom9Qx7d', '3z6XUommYDWPHeFhmhhT6j',\n       '4CkgMiMqZ5JzW9iYXSTMTL', '3oGVx9RBmiYGv5ZCecWLkx',\n       '4IQkfUsrwXol38VV3U7t7T', '6pYNq0ZwpPVazKzsqpf0G8',\n       '5enxwA8aAbwZbf5qCHORXi', '77sMIMlNaSURUAXq5coCxE',\n       '2nqio0SfWg6gh2eCtfuMa5', '6YvqWjhGD8mB5QXcbcUKtx',\n       '550erGcdD9n6PnwxrvYqZT', '5YL553x8sHderRBDlm3NM3',\n       '1qrpoAMXodY6895hGKoUpA', '7HC7R2D8WjXVcUHJyEGjRs',\n       '0k0vFacOHNuArLWMiH60p7', '6iiAfo4wTA2CVC3Uwx9uh8',\n       '22bPsP2jCgbLUvh82U0Z3M', '1msEuwSBneBKpVCZQcFTsU',\n       '6ON9UuIq49xXY9GPmHIYRp', '3ExweHKZF9B752DPQByRVT',\n       '2m3ObD945KvpE5y9A1eUWm', '0tQ9vBYpldCuikPsbgOVKA',\n       '01QdEx6kFr78ZejhQtWR5m', '1n2wszmJyVkw6FHqyLnQsY',\n       '51A8eKvvZz9uydvIZ7xRSV', '1cSFlSBdpT4F5vb1frQ231',\n       '2JoJrsEV15OzbijS47lids', '4CHpVfAhuxNJ3ibExe6kxO',\n       '2CYVETnhM9aytqrazYYwrK', '34V9RiEPe8MNdU32qJsJa1',\n       '7eResoqEJJAVTkQYSqvO3P', '4uuEGH5SVuzkkSFjo2DEiY',\n       '4qUijfYU8EoIWiY6oSyrgT', '2gVhfX2Gy1T9kDuS9azrF7',\n       '1gcyHQpBQ1lfXGdhZmWrHP', '3Dby3p1m6IOZn2gIIqECgK',\n       '6sQckd3Z8NPxVVKUnavY1F', '6lCvK2AR2uOKkVFCVlAzzm',\n       '6uwfVkaOM1mcMkFmSn35ix', '55Vf4bimc1Rtfg0PAQRAo2',\n       '66tOfHVH3aUrscg8vExRV4', '2awNGIJHodfLZSClB3PYhz',\n       '43Ykum9T72UOPhBN31grpN', '52OkpDsU6MmPx1AwGOb6Ap',\n       '5VYWxXUpxuxEmCqMLDqICo', '5uICWmZTLkpEVbK22PBP6e',\n       '6a8aUhYbaQBUI8PcJ5ZmQ6', '6Wlq9rqkxrqj5Kls4Kw14H',\n       '3zwMVvkBe2qIKDObWgXw4N', '1kdWw77ZpYOkhxeuhzU1j6',\n       '0lx2cLdOt3piJbcaXIV74f', '0sY6ZUTh4yoctD8VIXz339',\n       '5BK0uqwY9DNfZ630STAEaq', '7dW84mWkdWE5a6lFWxJCBG',\n       '0PurA4JVJ8YQgSVopY8fn6', '3RaT22zZsxVYxxKR7TAaYF',\n       '73YUReisjb3A9ActdLLjJQ', '670fUmXf4KQekzbEgaXyPA',\n       '3k7ne7VmH43ZPWxPdvPUgR', '19CSr8rwW05VJL2F91KFNK',\n       '1XjHRolIXL2M1EEOUsGGR4', '2o2sgVJIgFXk8GQjWTgI6U',\n       '12ntTeqEeTg7GAVpe8Mhpl', '35rdVq36LMHQX0Suw9a6tK',\n       '3O5osWf1rSoKMwe6E9ZaXP', '0P9wLFurlgumLXuqFEpw52',\n       '7zcnlq38eqNWyUF6eNaB5Z', '4ojxSyrEraN7d46BMBPThZ',\n       '6kz2hkq1xQvDqPcUyBkw8f', '0Oju1YcbPCJuUQQWoZNdJK',\n       '5jQyGzcwqAxwT5QUIMivoX', '2vJ7QvyCiR4DaHxwO58izA',\n       '1UHoF9p75IVsvUt6WdTYhn', '5DnDBYrfGoxdnomqEAkFIv',\n       '7CVTowKpGPA2MsIbkTl2oc', '4WHIqhrbdva5vQSrCuet3l',\n       '7klXN6RCN5Rj0VeYO5gBzU', '5MFjHn1qfR9AsWuyzJLk1z',\n       '2jhfs6moEAK13eLM6xim4l', '0O9i6jhscByEJs1ipy5hu4',\n       '4XCYmu7QLySdIahgBALKJK', '0zEprKYeuGOIZoHyu6O1E2',\n       '08J4bMHbILkwSIhbtrcvjN', '3EPgWM1zfTSzEc0z4AwWTM',\n       '28tIMaewZuGR8urkvFhQyA', '7N015NTIWGjQDddHUdHPoO',\n       '5mdNyCS7ttVcAyVYOIFEjs', '2yceD2hx5HhOLgkm1CITCi',\n       '4cOWq0cVsKjxaQpRMbDoH1', '4MGexoZc12lqE0hYkq9YYx',\n       '1gaLZjPrDnHQWJds2Jg4KT', '560uQyz3p5G9WdnMX39xc6',\n       '5KByGq0JijSSDcy0qzuINs', '04xrhDrQ2WOW8GLwu7kbc0',\n       '4yyKppX85ZkmlGOC2toBZA', '1mh5dObNoOvCfHmXnhvDEK',\n       '4YHHz3VIXgNDGdoL9xC1tx', '0QTBsdoJhamY3Aid3fOsOd',\n       '6mqyTq948oap5AkyTsd6XF', '4pfrrhvplbJZAIsfosGWQP',\n       '0KRYCBwIpWYFNrXOmXbyUh', '2olxzvoFI9IpxqFeUv7WOX',\n       '5S4aYQAJOwJMAamANWlICO', '5P2bHCDM2tsgIaYWsZMhu5',\n       '2I8YAEA1VmCuP1wkJHMpTw', '76mOLcXOjOEhyY4mMF1l3r',\n       '6nK2pIKFcRc5frrZKHgsiT', '7cm50Lw03k6VvRauJtkyTj',\n       '6DrLROM5MG9bxWHeEG5elq', '2ehRU518I0hYqMGQnk4lDY',\n       '0RP1kqoSPkVXsKiQNhMKzV', '1EXa37LpSvi3OQ9UYQ28rD',\n       '3IhtE4fkytdrtEfV34UzkD', '6JlI8Ay77m4nJvZTHvfT1J',\n       '0YeDG5HnKnG7jpArkzsSPa', '0eFQWVz0qIxDOvhLpZ40P7',\n       '2Fn01AIMyHbha2ceNQeOqw', '4R2kfaDFhslZEMJqAFNpdd',\n       '2Eeur20xVqfUoM3Q7EFPFt', '4pvb0WLRcMtbPGmtejJJ6y',\n       '1MgV7FIyNxIG7WzMRJV5HC', '0ZNU020wNYvgW84iljPkPP',\n       '6KJqZcs9XDgVck7Lg9QOTC', '3hUxzQpSfdDqwM3ZTFQY0K',\n       '7kt9e9LFSpN1zQtYEl19o1', '2NmsngXHeC1GQ9wWrzhOMf',\n       '6VsvKPJ4xjVNKpI8VVZ3SV', '2QDyYdZyhlP2fp79KZX8Bi',\n       '08fa9LFcFBTcilB3iq2e2A', '5kI4eCXXzyuIUXjQra0Cxi',\n       '7MbT4I8qGntX4fMdqMQgke', '6MWoRt97mnSTXZhu3ggi9C',\n       '43rA71bccXFGD4C8GOpIlN', '1BxfuPKGuaTgP7aM0Bbdwr',\n       '1dGr1c8CrMLDpV6mPbImSI', '3RauEVgRgj1IuWdJ9fDs70',\n       '3pHkh7d0lzM2AldUtz2x37', '2YWtcWi3a83pdEg3Gif4Pd',\n       '214nt20w5wOxJnY462klLw', '4y5bvROuBDPr5fuwXbIBZR',\n       '12M5uqx0ZuwkpLp5rJim1a', '2dgFqt3w9xIQRjhPtwNk3D',\n       '1LLXZFeAHK9R4xUramtUKw', '4AYtqFyFbX0Xkc2wtcygTr',\n       '5hQSXkFgbxjZo9uCwd11so', '6RRNNciQGZEXnqk8SQ9yv5',\n       '1SymEzIT3H8UZfibCs3TYi', '2Rk4JlNc2TPmZe2af99d45',\n       '1SmiQ65iSAbPto6gPFlBYm', '1fzAuUVbzlhZ1lJAx9PtY6',\n       '2yLa0QULdQr0qAIvVwN6B5', '2x0WlnmfG39ZuDmstl9xfX',\n       '4svZDCRz4cJoneBpjpx8DJ', '1R0a2iXumgCiFb7HEZ7gUE',\n       '6NFyWDv5CjfwuzoCkw47Xf', '1P17dC1amhFzptugyAO7Il',\n       '5PxFv9yJEg9dxvbZggykro', '1ZY1PqizIl78geGM4xWlEA', nan,\n       '0VE4kBnHJUgtMf0dy6DRmW', '7HuBDWi18s4aJM8UFnNheH',\n       '7I7JbDv63ZJJsSi24DyJrz', '6oVxXO5oQ4pTpO8RSnkzvv',\n       '07NxDD1iKCHbAldceD7QLP', '1GwMQaZz6Au3QLDbjbMdme',\n       '7F5oktn5YOsR9eR5YsFtqb', '00vJzaoxM3Eja1doBUhX0P',\n       '22C0JIVhFaczZ4t9heqREN', '7APTsjmZbj7TFXQJAiRti4',\n       '4V9NuhKQcUFt4cgbynHV79', '4hCZk6WJBFQeG3P7WsyntI',\n       '7eGeUVeCEvEQrivmjl9Qn3', '7qGr3rjRhndRIpFUA5f2HJ',\n       '2P5gfMtCcKP0CkmgqFMyPg', '2o2IVjuqRkR9hJxtPjtAP0',\n       '55n9yjI6qqXh5F2mYvUc2y', '5rcHBt2aNcGFWW0jaAUe1L',\n       '3aSYZ4upQ6OSNos26YeVWL', '41T04yafZVrjNq2FqvLtId',\n       '0H2UD0LfSCiRr59YMGlCuS', '6FmJKLpyCt42nP2IOVEVc2',\n       '5h2sBwpUSAndjObfU3ti2r', '0YRGTdfmJPALpglAaraYUr',\n       '6CB7DczrX9ZJB9Wkjegmaq', '1UPDfqsVIZLEiZeMuUsni2',\n       '0r3U7SOcoj4DIEyN44Lt5z', '40PXEOFLJc7UIpLMrhSfW1',\n       '3YLA3NgzFRRa7LiHMtFPby', '43sE2O3skbGBpT2tO6fzv9',\n       '5lg33MHs1BoUtJVClw8ZpI', '5PSOWHll3h3Vy226xSJk0M',\n       '0V3SNHDka1JSCP71HAzpxw', '0GmfiNHSgkKamYgQEMYOH3',\n       '5hiqtrACtMJkNpaNHj0n9Z', '2RSYYe7LhKFxIi50T5XtUo',\n       '64KRxmbqypPBlya4nxFmDn', '24ksPWXKg1k7OOG57pufED',\n       '0kqC185OTcnuhbz4T7g5RB', '3oxgFdIlxFEDEJqn7k5TVN',\n       '3EXetjrGgwIjDRNn6YA8sa', '2G679wnKfyhUOeNx910OXg',\n       '4qNEi8zGIYLiMtoW8OaJdx', '2fF3QzbGCrtrDXIdWcg1mv',\n       '0QCS4NpURHvWdF1icdkfBw', '0TYJbIHBtmWy9ugtU9BcbE',\n       '1XLc4irbX7oQSneh6gWv3O', '0eTCaVOYLpJlSkbEi2jay4',\n       '4RMfSYDFkcz0bKoK8fHDgR', '6Py8IKZqDyU8aQVrjilbJw',\n       '7txpzmA69zyk50K3ZyZSzC', '3qGLcmO0XnnrcpAQGZwTvA',\n       '1u8c2t2Cy7UBoG4ArRcF5g', '0ug5NqcwcFR2xrfTkc7k8e',\n       '0qUnBLZ8bJqUNEeQgayL9t', '0cqRj7pUJDkTCEsJkx8snD',\n       '5gRYrtvyVyaCRvLt56OfuV', '4A4A6dwl5DqdqrZaEtKGPR',\n       '0fM9dEhUFV4MHDuJgrcfOv', '4L560fic5PaTuCFm6CviKa',\n       '6EwNJz8CuVsrsLvXprJ20Q', '1NmVZsG18CzCAtw7rnV3yA',\n       '6RvRzl1YJTDnUvdOtV21IK', '2KrOAg6FftbjgSKdd2a4rS',\n       '0qAIiGFKLdV1xpNlEhjpq8', '4FoV729rw7IhoKlMZW5K5V',\n       '4eTXfpHxhxVofrBUjAhPMg', '4e6QU4gpfZj9xxcK856RgG',\n       '10nqz67NQWWa7XPq7ycihi', '2ls70nUDfjzm1lSRDuKxmw',\n       '71PmZqBXH0RUETqxpwlV0w', '7EpVQjqtKygiwJIASxMWNg',\n       '4NNolUeL5m2ju7kf8pdg6H', '1kKlhuQE0HXp1IwBRpaH2P',\n       '5RVJ6VKfwtosA5Q1qeHdjF', '0TvQLMecTE8utzoNmvXRbK',\n       '3fVnlF4pGqWI9flVENcT28', '5Z9ocF6ng0m2haHnKtHwTp',\n       '7lTxQZVXlvIX7Z3szSy8Sh', '6Ck9WerfsyvC4v4AylUoDp',\n       '2k43eySbfpDVx0PrO99UI8', '0b16LTzby1YRVd2nq2Z0fw',\n       '7gJtmLyPTwKzhGzMBXtuXH', '7nECwCDHS1JvQbrmuorZIH',\n       '3lKZf71jeNi14udIFPJ29V', '6GNRkaWUB0Lwc19SdkTgx8',\n       '3WC5CVAahvn98hiseoIvbw', '1eyqSYBCTane4rl4vc6PWJ',\n       '6kISMRfweKSvgHR0urMQFG', '0F2S1QlnMaOfmNHIgmES3k',\n       '2Tz4JnXZOcjcp8fWfMjBBk', '3KmYVOuK2eG7LGP7qQ8DLR',\n       '70e9zuv2pJc7ON1OUAJ1zl', '5VQLMrWhailAhErKNUSnv1',\n       '5PjfMmF06QtxTPZBZHdhoZ', '1gL4vMhDV3RgJQmDuY5HK1',\n       '1yG491M3fRfowMdGN5pey4', '4qTAwKJQ68gmnrnfPD3vlO',\n       '1n8rB9AhxiAvVP1E2c3yOd', '6VFpuI0DDmbC5UyWZQ4IRY',\n       '7skiELMb9SiQCcBpsExIJf', '2OghnlGqZZsFzHjG0CSE9l',\n       '5mfDBWY7ncZFm7ykmFTG4i', '1aBJNc2thaKyh5THWzIqHX',\n       '7yndkPYP6YQQLBpPsizDfh', '72GIZuUXo14oyrS0si3Rgc',\n       '7mFiEij8AXPUZB7aKLbUlQ', '68QyrSzpnoU04AAhE5z8lj',\n       '6505MLhnqTDDg4tjoUz2Wp', '3QFB14MOUf3imlyISNmrbT',\n       '6hH37tyeRdyan1mAppmVor', '0BSmbCIY36iw04azzJ3S0S',\n       '6KF9xd2hBLuexrmBX4vUWD', '4KB3zBArZ1rHRExilzycaV',\n       '4DbI1rr4IQ2bc8nejy9ttd', '6znB7YZhMJT2B83zfbiyLq',\n       '5QkzyLUb4ggojNDp8G2OxX', '46NGAvL695VnbcSeTmQWmM',\n       '5l6GqSxplqnZbLg0LTPQeG', '7dXKdjpOaH2iwfFKmUj7aq',\n       '3K2es3gElMRJ3qvmPW442g', '0KztjtD3ytzgYjUKIVfBnW',\n       '3lXekiVK1ZPZbKconsys73', '3JilapcaOXzjR9gtvCY8FO',\n       '04S1pkp1VaIqjg8zZqknR5', '0PWgAyoxsjwGRuFSO0fyya',\n       '0mTgFzkDgSAF3nJY25XCXG', '2YjKcFQ1vYFhQPgsmCOjss',\n       '4EUQXLipplO2v9mVaqQtjc', '4ewAfHYpDTzpW1GKO44CVP',\n       '0OAHsZ8vrS2NKom3cvfJQD', '09cM9BjyNFizKUOXh6j9rT',\n       '0tr6XR58KBdDYd8qvHVTs8', '2PBghI9zJkQEWBzMSMo2Ki',\n       '1GeLxMgpeCnMJntwyW6rLw', '6yM6QsnTCTVOkKEvg3hGlo',\n       '7vBlnGdfOLzVEqiOQQxeU8', '57w0Uyk2jJAkO2hMJ36xJZ',\n       '3sqrvkNC6IPTIXvvbx9Arw', '55mh9j2aB7xZ1Oh463gK8k',\n       '4LraIz87diVQdDK0rhi0S4', '72idZxdEHLbi2YI486c3sE',\n       '1VCJ7vk3Y2DoJIAEOXe3V8', '7BFc7ffruhZ4Hecnqf5xju',\n       '0hK93KD6Y0j9giUGh4Valj', '5tSmAABuoOfR59lrtXdDqm',\n       '6aJ0ipi4EPmu1aTbFeXZnw', '7k7BOXE4u6luKTwcLEAyrd',\n       '6SdBf0ZsJZoKaH5zcDaz9X', '67Io3gxHwfbUreBf114c0u',\n       '5aNkiOMxQXkpoEY5bTYoCh', '2jt90bYlYDg1lXYWES34LJ',\n       '6WWvcA62QlnRguluWAk6bv', '6ovFJkdau79DuXEvQjPaNH',\n       '13MAWVUSkbGMUi6I7RowRK', '0cEG04R5cldkTLzK6phlcn',\n       '0XfTh16YcKPzdxMPTeKTAq', '1yDJcXc549N6AabNBzFAku',\n       '2okho7vU7Nsq1UZD0kgIMi', '5Ora3Ish2A1JN5veGYTxhw',\n       '5hnJCRSo4pxRsaEwT9YusG', '3CI1f4yLwdHzcUnH7o0Xyh',\n       '5yKB8qcTSflDercM2PXwot', '4kgTdThcDHfuDS2kKxB7Lc',\n       '23qIWGhpwvDgC23TyZOUck', '4x7Gxk2GfwZJcqpoVT1PbR',\n       '3JhvYnOfKLJuWC7jEU0GmJ', '4pEZUytwBzha5Un6m3SCFf',\n       '3NKCWBT2uKp8rxSkcvIrdX', '7CjuAoOiSrwWv7wJonAUmw',\n       '3gFaNwyiafgUoQhR0pHYA9', '6zV8AVM9eVfdG7Qahwd64R',\n       '4yf9OivCH2lmQWN8mzpCC6', '5xPsybHWRHbTYO44xnREY5',\n       '4fWDgRZa0GKE5KZNhE9MQa', '1yFjBRQVhRdcdnrTE5LuyD',\n       '7G6TDmGJXDoBaV6NGj3Yic', '0qsSmObOgBZfuMIwfAQDBP',\n       '6vLpy7UPYuOa75Bkqocrcw', '4N419mmxYybTfAECy5j4dw',\n       '04LDcz3RX1P5sIlzQGqgUN', '3yuOL0jFnVR8tizZzNNo0F',\n       '7G9D32Kx7hdQ9Uga1V4VXm', '493jXNrYmXPCMbSJvVRYLk',\n       '5Ct2PYPUSogyWvbV40k9Bf', '2RM02ladxD5mgdrlAwh3h9',\n       '2gwvtlwlKhvkfjz7Fcb6Yk', '4RBKAqJ3qyvvriDG0s9IJ3',\n       '5g7RMU3cV7zXWH244BLe7G', '4aBW31cmkA7BLColUsMEeZ',\n       '4MbHDiHQjhmoVAV75G04Ql', '4DjevQhsPWULcondN4mRh5',\n       '7EvU9pRoJ9Xs7anx0P7tEc', '5a9hUL6ZuiagZhazwrtwHF',\n       '69o9kr9UexjzeZDE8yD8dQ', '0Jlcvv8IykzHaSmj49uNW8',\n       '4BYejINgfZF0qKDMEH2cim', '2TF4UtYreqNbQ6Z9AccldU',\n       '1oR4MUBpyNrAViC8wPNpfm', '569sXXQ7t0jSdqHooi2yqs',\n       '5Tj2MqcFMf60CaGsKbM1aq', '2zzxwmoOBnXDT0KnJsoIWk',\n       '41sjzdjScVwnxnxADElts6', '6CdaXOq1MWe2JHDalTG01d',\n       '2O8sogKJCfVZ4rotBv1vVF', '1j6gmK6u4WNI33lMZ8dC1s',\n       '7CzxXgQXurKZCyHz9ufbo1', '1k3PzDNjg38cWqOvL4M9vq',\n       '0YgHuReCSPwTXYny7isLja', '1hxLyjC9D9Jpw6EAPKqWv4'], dtype=object)"
     },
     "execution_count": 285,
     "metadata": {},
     "output_type": "execute_result"
    }
   ],
   "source": [
    "df['track_id'].unique()"
   ],
   "metadata": {
    "collapsed": false,
    "ExecuteTime": {
     "end_time": "2024-01-09T04:42:39.205866100Z",
     "start_time": "2024-01-09T04:42:39.045235200Z"
    }
   },
   "id": "cad74c6edf579d8f",
   "execution_count": 285
  },
  {
   "cell_type": "markdown",
   "source": [
    "**Observacion**: Hay valores con datos nulos pero este problema fue analizado en valores nulos del dataset"
   ],
   "metadata": {
    "collapsed": false
   },
   "id": "aa7d7ea1920a937a"
  },
  {
   "cell_type": "markdown",
   "source": [
    "#### \"track_name\""
   ],
   "metadata": {
    "collapsed": false
   },
   "id": "6fd2ec56fbf47076"
  },
  {
   "cell_type": "code",
   "outputs": [
    {
     "data": {
      "text/plain": "array([\"Welcome To New York (Taylor's Version)\",\n       \"Blank Space (Taylor's Version)\", \"Style (Taylor's Version)\",\n       \"Out Of The Woods (Taylor's Version)\",\n       \"All You Had To Do Was Stay (Taylor's Version)\",\n       \"Shake It Off (Taylor's Version)\",\n       \"I Wish You Would (Taylor's Version)\",\n       \"Bad Blood (Taylor's Version)\",\n       \"Wildest Dreams (Taylor's Version)\",\n       \"How You Get The Girl (Taylor's Version)\",\n       'This Love (Taylor’s Version)', \"I Know Places (Taylor's Version)\",\n       \"Clean (Taylor's Version)\", \"Wonderland (Taylor's Version)\",\n       \"You Are In Love (Taylor's Version)\",\n       \"New Romantics (Taylor's Version)\",\n       '\"Slut!\" (Taylor\\'s Version) (From The Vault)',\n       \"Say Don't Go (Taylor's Version) (From The Vault)\",\n       \"Now That We Don't Talk (Taylor's Version) (From The Vault)\",\n       \"Suburban Legends (Taylor's Version) (From The Vault)\",\n       \"Is It Over Now? (Taylor's Version) (From The Vault)\",\n       \"Bad Blood (feat. Kendrick Lamar) (Taylor's Version)\",\n       \"Mine (Taylor's Version)\", 'Sparks Fly (Taylor’s Version)',\n       \"Back To December (Taylor's Version)\",\n       \"Speak Now (Taylor's Version)\", \"Dear John (Taylor's Version)\",\n       \"Mean (Taylor's Version)\", \"The Story Of Us (Taylor's Version)\",\n       \"Never Grow Up (Taylor's Version)\", \"Enchanted (Taylor's Version)\",\n       \"Better Than Revenge (Taylor's Version)\",\n       \"Innocent (Taylor's Version)\", \"Haunted (Taylor's Version)\",\n       \"Last Kiss (Taylor's Version)\", \"Long Live (Taylor's Version)\",\n       'Ours (Taylor’s Version)', 'Superman (Taylor’s Version)',\n       'Electric Touch (feat. Fall Out Boy) (Taylor’s Version) (From The Vault)',\n       'When Emma Falls in Love (Taylor’s Version) (From The Vault)',\n       'I Can See You (Taylor’s Version) (From The Vault)',\n       'Castles Crumbling (feat. Hayley Williams) (Taylor’s Version) (From The Vault)',\n       'Foolish One (Taylor’s Version) (From The Vault)',\n       'Timeless (Taylor’s Version) (From The Vault)', 'Lavender Haze',\n       'Maroon', 'Anti-Hero', 'Snow On The Beach (feat. Lana Del Rey)',\n       \"You're On Your Own, Kid\", 'Midnight Rain', 'Question...?',\n       'Vigilante Shit', 'Bejeweled', 'Labyrinth', 'Karma',\n       'Sweet Nothing', nan, 'The Great War', 'Bigger Than The Whole Sky',\n       'Paris', 'High Infidelity', 'Glitch',\n       \"Would've, Could've, Should've\", 'Dear Reader', 'Hits Different',\n       'Snow On The Beach (feat. More Lana Del Rey)',\n       'Karma (feat. Ice Spice)', 'Mastermind',\n       \"State Of Grace (Taylor's Version)\", \"Red (Taylor's Version)\",\n       \"Treacherous (Taylor's Version)\",\n       \"I Knew You Were Trouble (Taylor's Version)\",\n       \"All Too Well (Taylor's Version)\", \"22 (Taylor's Version)\",\n       \"I Almost Do (Taylor's Version)\",\n       \"We Are Never Ever Getting Back Together (Taylor's Version)\",\n       \"Stay Stay Stay (Taylor's Version)\",\n       'The Last Time (feat. Gary Lightbody of Snow Patrol) (Taylor’s Version)',\n       \"Holy Ground (Taylor's Version)\",\n       \"Sad Beautiful Tragic (Taylor's Version)\",\n       \"The Lucky One (Taylor's Version)\",\n       'Everything Has Changed (feat. Ed Sheeran) (Taylor’s Version)',\n       \"Starlight (Taylor's Version)\", \"Begin Again (Taylor's Version)\",\n       \"The Moment I Knew (Taylor's Version)\",\n       \"Come Back...Be Here (Taylor's Version)\",\n       \"Girl At Home (Taylor's Version)\",\n       \"State Of Grace (Acoustic Version) (Taylor's Version)\",\n       \"Ronan (Taylor's Version)\",\n       \"Better Man (Taylor's Version) (From The Vault)\",\n       'Nothing New (feat. Phoebe Bridgers) (Taylor’s Version) (From The Vault)',\n       \"Babe (Taylor's Version) (From The Vault)\",\n       \"Message In A Bottle (Taylor's Version) (From The Vault)\",\n       'I Bet You Think About Me (feat. Chris Stapleton) (Taylor’s Version) (From The Vault)',\n       \"Forever Winter (Taylor's Version) (From The Vault)\",\n       'Run (feat. Ed Sheeran) (Taylor’s Version) (From The Vault)',\n       \"The Very First Night (Taylor's Version) (From The Vault)\",\n       \"All Too Well (10 Minute Version) (Taylor's Version) (From The Vault)\",\n       'Fearless (Taylor’s Version)', 'Fifteen (Taylor’s Version)',\n       'Love Story (Taylor’s Version)', 'Hey Stephen (Taylor’s Version)',\n       'White Horse (Taylor’s Version)',\n       'You Belong With Me (Taylor’s Version)',\n       'Breathe (feat. Colbie Caillat) (Taylor’s Version)',\n       'Tell Me Why (Taylor’s Version)',\n       'You’re Not Sorry (Taylor’s Version)',\n       'The Way I Loved You (Taylor’s Version)',\n       'Forever & Always (Taylor’s Version)',\n       'The Best Day (Taylor’s Version)', 'Change (Taylor’s Version)',\n       'Jump Then Fall (Taylor’s Version)',\n       'Untouchable (Taylor’s Version)',\n       'Forever & Always (Piano Version) (Taylor’s Version)',\n       'Come In With The Rain (Taylor’s Version)',\n       'Superstar (Taylor’s Version)',\n       'The Other Side Of The Door (Taylor’s Version)',\n       'Today Was A Fairytale (Taylor’s Version)',\n       'You All Over Me (feat. Maren Morris) (Taylor’s Version) (From The Vault)',\n       'Mr. Perfectly Fine (Taylor’s Version) (From The Vault)',\n       'We Were Happy (Taylor’s Version) (From The Vault)',\n       'That’s When (feat. Keith Urban) (Taylor’s Version) (From The Vault)',\n       'Don’t You (Taylor’s Version) (From The Vault)',\n       'Bye Bye Baby (Taylor’s Version) (From The Vault)', 'willow',\n       'champagne problems', 'gold rush', '‘tis the damn season',\n       'tolerate it', 'no body, no crime (feat. HAIM)', 'happiness',\n       'dorothea', 'coney island (feat. The National)', 'ivy',\n       'cowboy like me', 'long story short', 'marjorie', 'closure',\n       'evermore (feat. Bon Iver)',\n       'right where you left me - bonus track',\n       'it’s time to go - bonus track', 'the 1', 'cardigan',\n       'the last great american dynasty', 'exile (feat. Bon Iver)',\n       'my tears ricochet', 'mirrorball', 'seven', 'august',\n       'this is me trying', 'illicit affairs', 'invisible string',\n       'mad woman', 'epiphany', 'betty', 'peace', 'hoax',\n       'the lakes - bonus track', 'the 1 - the long pond studio sessions',\n       'cardigan - the long pond studio sessions',\n       'the last great american dynasty - the long pond studio sessions',\n       'exile (feat. Bon Iver) - the long pond studio sessions',\n       'my tears ricochet - the long pond studio sessions',\n       'mirrorball - the long pond studio sessions',\n       'seven - the long pond studio sessions',\n       'august - the long pond studio sessions',\n       'this is me trying - the long pond studio sessions',\n       'illicit affairs - the long pond studio sessions',\n       'invisible string - the long pond studio sessions',\n       'mad woman - the long pond studio sessions',\n       'epiphany - the long pond studio sessions',\n       'betty - the long pond studio sessions',\n       'peace - the long pond studio sessions',\n       'hoax - the long pond studio sessions',\n       'the lakes - the long pond studio sessions', 'Tim McGraw',\n       'I Forgot That You Existed', 'Cruel Summer', 'Lover', 'The Man',\n       'The Archer', 'I Think He Knows',\n       'Miss Americana & The Heartbreak Prince', 'Paper Rings',\n       'Cornelia Street', 'Death By A Thousand Cuts', 'London Boy',\n       'Soon You’ll Get Better (feat. The Chicks)', 'False God',\n       'You Need To Calm Down', 'Afterglow',\n       'ME! (feat. Brendon Urie of Panic! At The Disco)',\n       'It’s Nice To Have A Friend', 'Daylight', '...Ready For It?',\n       'End Game', 'I Did Something Bad', 'Don’t Blame Me', 'Delicate',\n       'Look What You Made Me Do', 'So It Goes...', 'Gorgeous',\n       'Getaway Car', 'King Of My Heart', 'Dancing With Our Hands Tied',\n       'Dress', \"This Is Why We Can't Have Nice Things\",\n       'Call It What You Want', 'New Year’s Day', 'All Too Well',\n       'Wildest Dreams', 'The Best Day', 'Red', 'Holy Ground',\n       'Teardrops On My Guitar - Radio Single Remix', 'Our Song', '22',\n       'I Knew You Were Trouble.',\n       'I Don’t Wanna Live Forever (Fifty Shades Darker)', 'Mean',\n       'How You Get The Girl', 'Fifteen', 'Mine', 'Sparks Fly',\n       'State Of Grace', 'Haunted', 'Never Grow Up', 'Treacherous',\n       'Babe', 'Welcome To New York', 'Fearless', 'Enchanted', 'Change',\n       'Ours', 'Out Of The Woods', 'Come Back...Be Here',\n       'A Place in this World', 'This Love', 'The Lucky One', 'Invisible',\n       'Breathe', 'Better Man', 'Jump Then Fall', 'Begin Again',\n       'Tied Together with a Smile', 'The Story Of Us',\n       'Forever & Always', 'Hey Stephen', 'Speak Now', 'Wonderland',\n       'White Horse', \"I'm Only Me When I'm With You\", 'Starlight',\n       'I Know Places', 'Blank Space', 'Style',\n       'All You Had To Do Was Stay', 'Shake It Off', 'I Wish You Would',\n       'Bad Blood', 'Clean', 'You Are In Love', 'New Romantics',\n       'I Wish You Would - Voice Memo', 'Blank Space - Voice Memo',\n       'I Almost Do', 'We Are Never Ever Getting Back Together',\n       'Stay Stay Stay', 'The Last Time', 'Sad Beautiful Tragic',\n       'Everything Has Changed', 'The Moment I Knew', 'Girl At Home',\n       'Treacherous - Original Demo Recording',\n       'Red - Original Demo Recording', 'State Of Grace - Acoustic',\n       'Sparks Fly - Live/2011', 'Mine - Live/2011',\n       'The Story Of Us - Live', 'Mean - Live/2011', 'Ours - Live/2011',\n       \"Back To December/Apologize/You're Not Sorry - Live/2011/Medley\",\n       'Better Than Revenge - Live/2011', 'Speak Now - Live/2011',\n       'Last Kiss - Live/2011', 'Drops Of Jupiter - Live/2011',\n       'Bette Davis Eyes - Live/2011', 'I Want You Back - Live/2011',\n       'Dear John - Live/2011', 'Enchanted - Live/2011',\n       'Haunted - Live/2011', 'Long Live - Live/2011', 'Mine - POP Mix',\n       'Back To December', 'Dear John', 'Better Than Revenge', 'Innocent',\n       'Last Kiss', 'Long Live', 'If This Was A Movie', 'Superman',\n       'Back To December - Acoustic', 'Haunted - Acoustic Version',\n       'Untouchable', 'Forever & Always - Piano Version',\n       'Come In With The Rain', 'SuperStar', 'The Other Side Of The Door',\n       'Love Story', 'You Belong With Me', 'Tell Me Why',\n       \"You're Not Sorry\", 'The Way I Loved You',\n       'Our Song - International Mix',\n       'Teardrops On My Guitar - International Mix',\n       \"Should've Said No - International Mix\",\n       'Love Story - Live From Clear Channel Stripped 2008',\n       'Fearless - Live From Clear Channel Stripped 2008',\n       'Beautiful Eyes - Live From Clear Channel Stripped 2008',\n       'Untouchable - Live From Clear Channel Stripped 2008',\n       'Teardrops On My Guitar - Live From Clear Channel Stripped 2008',\n       'Picture To Burn - Live From Clear Channel Stripped 2008',\n       \"Should've Said No - Live From Clear Channel Stripped 2008\",\n       'Change - Live From Clear Channel Stripped 2008',\n       'Picture To Burn', 'Cold As You', 'The Outside', 'Stay Beautiful',\n       \"Should've Said No\", \"Mary's Song (Oh My My My)\",\n       'A Perfectly Good Heart', 'Teardrops on My Guitar - Pop Version'],\n      dtype=object)"
     },
     "execution_count": 286,
     "metadata": {},
     "output_type": "execute_result"
    }
   ],
   "source": [
    "df['track_name'].unique()"
   ],
   "metadata": {
    "collapsed": false,
    "ExecuteTime": {
     "end_time": "2024-01-09T04:42:39.295482500Z",
     "start_time": "2024-01-09T04:42:39.124538600Z"
    }
   },
   "id": "1e0dfc4f35086c56",
   "execution_count": 286
  },
  {
   "cell_type": "markdown",
   "source": [
    "**Observacion**: Hay valores con datos nulos pero este problema fue analizado en valores nulos del dataset"
   ],
   "metadata": {
    "collapsed": false
   },
   "id": "3d425af74a3e11ec"
  },
  {
   "cell_type": "markdown",
   "source": [
    "#### \"track_popularity\""
   ],
   "metadata": {
    "collapsed": false
   },
   "id": "ffedac2c1341598"
  },
  {
   "cell_type": "code",
   "outputs": [
    {
     "data": {
      "text/plain": "                         track_name  track_popularity\n75                            Karma               -69\n89                    Lavender Haze               -70\n109                   Lavender Haze               -85\n111                       Anti-Hero               -92\n115                    Question...?               -75\n128  I Almost Do (Taylor's Version)               -71\n391                             NaN                 0\n392   I Wish You Would - Voice Memo                 0\n393        Blank Space - Voice Memo                 0\n472                       Long Live               152",
      "text/html": "<div>\n<style scoped>\n    .dataframe tbody tr th:only-of-type {\n        vertical-align: middle;\n    }\n\n    .dataframe tbody tr th {\n        vertical-align: top;\n    }\n\n    .dataframe thead th {\n        text-align: right;\n    }\n</style>\n<table border=\"1\" class=\"dataframe\">\n  <thead>\n    <tr style=\"text-align: right;\">\n      <th></th>\n      <th>track_name</th>\n      <th>track_popularity</th>\n    </tr>\n  </thead>\n  <tbody>\n    <tr>\n      <th>75</th>\n      <td>Karma</td>\n      <td>-69</td>\n    </tr>\n    <tr>\n      <th>89</th>\n      <td>Lavender Haze</td>\n      <td>-70</td>\n    </tr>\n    <tr>\n      <th>109</th>\n      <td>Lavender Haze</td>\n      <td>-85</td>\n    </tr>\n    <tr>\n      <th>111</th>\n      <td>Anti-Hero</td>\n      <td>-92</td>\n    </tr>\n    <tr>\n      <th>115</th>\n      <td>Question...?</td>\n      <td>-75</td>\n    </tr>\n    <tr>\n      <th>128</th>\n      <td>I Almost Do (Taylor's Version)</td>\n      <td>-71</td>\n    </tr>\n    <tr>\n      <th>391</th>\n      <td>NaN</td>\n      <td>0</td>\n    </tr>\n    <tr>\n      <th>392</th>\n      <td>I Wish You Would - Voice Memo</td>\n      <td>0</td>\n    </tr>\n    <tr>\n      <th>393</th>\n      <td>Blank Space - Voice Memo</td>\n      <td>0</td>\n    </tr>\n    <tr>\n      <th>472</th>\n      <td>Long Live</td>\n      <td>152</td>\n    </tr>\n  </tbody>\n</table>\n</div>"
     },
     "execution_count": 287,
     "metadata": {},
     "output_type": "execute_result"
    }
   ],
   "source": [
    "df[(df['track_popularity'] <= 0) | (df['track_popularity'] >= 100)][['track_name', 'track_popularity']]\n"
   ],
   "metadata": {
    "collapsed": false,
    "ExecuteTime": {
     "end_time": "2024-01-09T04:42:39.441137900Z",
     "start_time": "2024-01-09T04:42:39.279478900Z"
    }
   },
   "id": "2bdc67ce9a97e5f2",
   "execution_count": 287
  },
  {
   "cell_type": "markdown",
   "source": [
    "**Observaciones**\n",
    "- Teniendo en cuenta la documentacion tenemos valores negativos que salen del intervalo de valores que puede tomar esta columna que son de [0, 100] por lo que aquellos valores negativos son datos erroneos.\n",
    "- Para los valores que son 0 podriamos decir que son canciones que no son muy populares pero teniendo en cuenta que hablamos de Taylor Swift, no creo que tenga canciones con 0 de popularidad, deberian ser conocidas por lo menos en su pais.\n",
    "- Para los valores que son mayores a 100 tenemos un error ya que superan el intervalo establecido por la documentacion\n",
    "\n",
    "**Impacto potencial**: Afectaria la calidad de datos si tomamos en cuenta un analisis de datos con graficos sobre esta columna donde nuestro valores deban ser estricamente positivos teniendo en cuenta de la artista que hablamos\n",
    "**Recomendaciones**: Lo ideal para aquellos datos que presentan anomalias seria eliminarlos para el caso de las canciones que pertenecen al album que no tiene nombre."
   ],
   "metadata": {
    "collapsed": false
   },
   "id": "5eaf2d771cd272ca"
  },
  {
   "cell_type": "markdown",
   "source": [
    "#### \"duration_ms\""
   ],
   "metadata": {
    "collapsed": false
   },
   "id": "ba334275b3d4c6fd"
  },
  {
   "cell_type": "markdown",
   "source": [],
   "metadata": {
    "collapsed": false
   },
   "id": "166c232deac90add"
  },
  {
   "cell_type": "code",
   "outputs": [
    {
     "data": {
      "text/plain": "                        track_name  duration_ms\n392  I Wish You Would - Voice Memo      -107133\n408                            NaN      -223093",
      "text/html": "<div>\n<style scoped>\n    .dataframe tbody tr th:only-of-type {\n        vertical-align: middle;\n    }\n\n    .dataframe tbody tr th {\n        vertical-align: top;\n    }\n\n    .dataframe thead th {\n        text-align: right;\n    }\n</style>\n<table border=\"1\" class=\"dataframe\">\n  <thead>\n    <tr style=\"text-align: right;\">\n      <th></th>\n      <th>track_name</th>\n      <th>duration_ms</th>\n    </tr>\n  </thead>\n  <tbody>\n    <tr>\n      <th>392</th>\n      <td>I Wish You Would - Voice Memo</td>\n      <td>-107133</td>\n    </tr>\n    <tr>\n      <th>408</th>\n      <td>NaN</td>\n      <td>-223093</td>\n    </tr>\n  </tbody>\n</table>\n</div>"
     },
     "execution_count": 288,
     "metadata": {},
     "output_type": "execute_result"
    }
   ],
   "source": [
    "df[df['duration_ms'] <= 0][['track_name', 'duration_ms']]"
   ],
   "metadata": {
    "collapsed": false,
    "ExecuteTime": {
     "end_time": "2024-01-09T04:42:39.491258800Z",
     "start_time": "2024-01-09T04:42:39.416664400Z"
    }
   },
   "id": "4b492104d2583edb",
   "execution_count": 288
  },
  {
   "cell_type": "markdown",
   "source": [
    "**Observacion**: Tenemos 2 canciones con valores negativos en la columna lo cual significa que hay un error en los datos ya que no pueden tener una duracion negativa.\n",
    "**Impacto potencial**: Afectaria la calidad de datos.\n",
    "**Recomendaciones**: Lo ideal seria reemplazar estos valores por la duracion original de la cancion."
   ],
   "metadata": {
    "collapsed": false
   },
   "id": "7c97b45d077e6344"
  },
  {
   "cell_type": "markdown",
   "source": [
    "#### \"explicit\""
   ],
   "metadata": {
    "collapsed": false
   },
   "id": "c43d7d000531b85d"
  },
  {
   "cell_type": "code",
   "outputs": [
    {
     "data": {
      "text/plain": "array(['False', 'True', 'Si', 'No'], dtype=object)"
     },
     "execution_count": 289,
     "metadata": {},
     "output_type": "execute_result"
    }
   ],
   "source": [
    "df['explicit'].unique()"
   ],
   "metadata": {
    "collapsed": false,
    "ExecuteTime": {
     "end_time": "2024-01-09T04:42:39.671296300Z",
     "start_time": "2024-01-09T04:42:39.492376900Z"
    }
   },
   "id": "1abb6ae3e6f5a1d",
   "execution_count": 289
  },
  {
   "cell_type": "markdown",
   "source": [
    "**Observacion**: Segun la documentacion los valores que esta columna puede tomar son \"True\" o \"False\" pero podemos ver que hay datos que no corresponden a este intevalo por lo cual tendriamo un error.\n",
    "**Impacto potencial**: Afectaria la calidad de datos y analisis posterior si quisiera filtrar aquellas canciones segun si son explicitas o no.\n",
    "**Recomendaciones**: Lo ideal seria reemplazar estos valores por \"True\" o \"False\" segun corresponda."
   ],
   "metadata": {
    "collapsed": false
   },
   "id": "44910768b9d01411"
  },
  {
   "cell_type": "markdown",
   "source": [
    "#### \"track_number\""
   ],
   "metadata": {
    "collapsed": false
   },
   "id": "e6706415aa9c9160"
  },
  {
   "cell_type": "code",
   "outputs": [
    {
     "data": {
      "text/plain": "array([ 1,  2,  3,  4,  5,  6,  7,  8,  9, 10, 11, 12, 13, 14, 15, 16, 17,\n       18, 19, 20, 21, 22, 23, 24, 25, 26, 27, 28, 29, 30, 31, 32, 33, 34,\n       35, 36, 37, 38, 39, 40, 41, 42, 43, 44, 45, 46], dtype=int64)"
     },
     "execution_count": 290,
     "metadata": {},
     "output_type": "execute_result"
    }
   ],
   "source": [
    "df['track_number'].unique()"
   ],
   "metadata": {
    "collapsed": false,
    "ExecuteTime": {
     "end_time": "2024-01-09T04:42:39.853341200Z",
     "start_time": "2024-01-09T04:42:39.625215500Z"
    }
   },
   "id": "cb63973507a0bf47",
   "execution_count": 290
  },
  {
   "cell_type": "markdown",
   "source": [
    "**Observacion**: Sin anomalias en los datos"
   ],
   "metadata": {
    "collapsed": false
   },
   "id": "e434a66fa2f33055"
  },
  {
   "cell_type": "markdown",
   "source": [
    "#### \"danceability\""
   ],
   "metadata": {
    "collapsed": false
   },
   "id": "e9040598900a3767"
  },
  {
   "cell_type": "code",
   "outputs": [
    {
     "data": {
      "text/plain": "Empty DataFrame\nColumns: [artist_id, artist_name, artist_popularity, album_id, album_name, album_release_date, album_total_tracks, track_id, track_name, track_popularity, disc_number, duration_ms, explicit, track_number, danceability, energy, key, loudness, mode, speechiness, acousticness, instrumentalness, liveness, valence, tempo, id, time_signature]\nIndex: []\n\n[0 rows x 27 columns]",
      "text/html": "<div>\n<style scoped>\n    .dataframe tbody tr th:only-of-type {\n        vertical-align: middle;\n    }\n\n    .dataframe tbody tr th {\n        vertical-align: top;\n    }\n\n    .dataframe thead th {\n        text-align: right;\n    }\n</style>\n<table border=\"1\" class=\"dataframe\">\n  <thead>\n    <tr style=\"text-align: right;\">\n      <th></th>\n      <th>artist_id</th>\n      <th>artist_name</th>\n      <th>artist_popularity</th>\n      <th>album_id</th>\n      <th>album_name</th>\n      <th>album_release_date</th>\n      <th>album_total_tracks</th>\n      <th>track_id</th>\n      <th>track_name</th>\n      <th>track_popularity</th>\n      <th>...</th>\n      <th>loudness</th>\n      <th>mode</th>\n      <th>speechiness</th>\n      <th>acousticness</th>\n      <th>instrumentalness</th>\n      <th>liveness</th>\n      <th>valence</th>\n      <th>tempo</th>\n      <th>id</th>\n      <th>time_signature</th>\n    </tr>\n  </thead>\n  <tbody>\n  </tbody>\n</table>\n<p>0 rows × 27 columns</p>\n</div>"
     },
     "execution_count": 291,
     "metadata": {},
     "output_type": "execute_result"
    }
   ],
   "source": [
    "df[(df['danceability'] <= 0) | (df['danceability'] >= 1)]"
   ],
   "metadata": {
    "collapsed": false,
    "ExecuteTime": {
     "end_time": "2024-01-09T04:42:40.022575400Z",
     "start_time": "2024-01-09T04:42:39.865392200Z"
    }
   },
   "id": "2c4664cb3d503de",
   "execution_count": 291
  },
  {
   "cell_type": "markdown",
   "source": [
    "**Observacion**: Sin anomalias en los datos"
   ],
   "metadata": {
    "collapsed": false
   },
   "id": "b704d9e2be56bd98"
  },
  {
   "cell_type": "markdown",
   "source": [
    "#### \"energy\""
   ],
   "metadata": {
    "collapsed": false
   },
   "id": "e148ce14cc9015ba"
  },
  {
   "cell_type": "code",
   "outputs": [
    {
     "data": {
      "text/plain": "Empty DataFrame\nColumns: [track_name, energy]\nIndex: []",
      "text/html": "<div>\n<style scoped>\n    .dataframe tbody tr th:only-of-type {\n        vertical-align: middle;\n    }\n\n    .dataframe tbody tr th {\n        vertical-align: top;\n    }\n\n    .dataframe thead th {\n        text-align: right;\n    }\n</style>\n<table border=\"1\" class=\"dataframe\">\n  <thead>\n    <tr style=\"text-align: right;\">\n      <th></th>\n      <th>track_name</th>\n      <th>energy</th>\n    </tr>\n  </thead>\n  <tbody>\n  </tbody>\n</table>\n</div>"
     },
     "execution_count": 292,
     "metadata": {},
     "output_type": "execute_result"
    }
   ],
   "source": [
    "df[(df['energy'] <= 0) | (df['energy'] >= 1)][['track_name', 'energy']]"
   ],
   "metadata": {
    "collapsed": false,
    "ExecuteTime": {
     "end_time": "2024-01-09T04:42:40.144816200Z",
     "start_time": "2024-01-09T04:42:39.993696300Z"
    }
   },
   "id": "d8ef4c3669d47eb3",
   "execution_count": 292
  },
  {
   "cell_type": "code",
   "outputs": [
    {
     "data": {
      "text/plain": "Empty DataFrame\nColumns: [track_name, energy]\nIndex: []",
      "text/html": "<div>\n<style scoped>\n    .dataframe tbody tr th:only-of-type {\n        vertical-align: middle;\n    }\n\n    .dataframe tbody tr th {\n        vertical-align: top;\n    }\n\n    .dataframe thead th {\n        text-align: right;\n    }\n</style>\n<table border=\"1\" class=\"dataframe\">\n  <thead>\n    <tr style=\"text-align: right;\">\n      <th></th>\n      <th>track_name</th>\n      <th>energy</th>\n    </tr>\n  </thead>\n  <tbody>\n  </tbody>\n</table>\n</div>"
     },
     "execution_count": 293,
     "metadata": {},
     "output_type": "execute_result"
    }
   ],
   "source": [
    "# Datos diferentes a float\n",
    "df[~df['energy'].apply(lambda x: isinstance(x, float))][['track_name', 'energy']]"
   ],
   "metadata": {
    "collapsed": false,
    "ExecuteTime": {
     "end_time": "2024-01-09T04:42:40.292923200Z",
     "start_time": "2024-01-09T04:42:40.123563800Z"
    }
   },
   "id": "70afbf4fa3aba01d",
   "execution_count": 293
  },
  {
   "cell_type": "markdown",
   "source": [
    "**Observacion**: Sin anomalias en los datos"
   ],
   "metadata": {
    "collapsed": false
   },
   "id": "a28d81cb7aa16736"
  },
  {
   "cell_type": "markdown",
   "source": [
    "#### \"key\""
   ],
   "metadata": {
    "collapsed": false
   },
   "id": "b9d703e6cc649bce"
  },
  {
   "cell_type": "code",
   "outputs": [
    {
     "data": {
      "text/plain": "Empty DataFrame\nColumns: [track_name, key]\nIndex: []",
      "text/html": "<div>\n<style scoped>\n    .dataframe tbody tr th:only-of-type {\n        vertical-align: middle;\n    }\n\n    .dataframe tbody tr th {\n        vertical-align: top;\n    }\n\n    .dataframe thead th {\n        text-align: right;\n    }\n</style>\n<table border=\"1\" class=\"dataframe\">\n  <thead>\n    <tr style=\"text-align: right;\">\n      <th></th>\n      <th>track_name</th>\n      <th>key</th>\n    </tr>\n  </thead>\n  <tbody>\n  </tbody>\n</table>\n</div>"
     },
     "execution_count": 294,
     "metadata": {},
     "output_type": "execute_result"
    }
   ],
   "source": [
    "df[(df['key'] <= -1) | (df['key'] > 11)][['track_name', 'key']]"
   ],
   "metadata": {
    "collapsed": false,
    "ExecuteTime": {
     "end_time": "2024-01-09T04:42:40.531303100Z",
     "start_time": "2024-01-09T04:42:40.258944700Z"
    }
   },
   "id": "164a6979d8f59306",
   "execution_count": 294
  },
  {
   "cell_type": "code",
   "outputs": [
    {
     "data": {
      "text/plain": "                                        track_name   key\n0           Welcome To New York (Taylor's Version)   7.0\n1                   Blank Space (Taylor's Version)   0.0\n2                         Style (Taylor's Version)  11.0\n3              Out Of The Woods (Taylor's Version)   0.0\n4    All You Had To Do Was Stay (Taylor's Version)   0.0\n..                                             ...   ...\n534                                       Our Song   2.0\n535                  I'm Only Me When I'm With You   8.0\n536                                      Invisible   7.0\n537                         A Perfectly Good Heart   4.0\n538           Teardrops on My Guitar - Pop Version  10.0\n\n[539 rows x 2 columns]",
      "text/html": "<div>\n<style scoped>\n    .dataframe tbody tr th:only-of-type {\n        vertical-align: middle;\n    }\n\n    .dataframe tbody tr th {\n        vertical-align: top;\n    }\n\n    .dataframe thead th {\n        text-align: right;\n    }\n</style>\n<table border=\"1\" class=\"dataframe\">\n  <thead>\n    <tr style=\"text-align: right;\">\n      <th></th>\n      <th>track_name</th>\n      <th>key</th>\n    </tr>\n  </thead>\n  <tbody>\n    <tr>\n      <th>0</th>\n      <td>Welcome To New York (Taylor's Version)</td>\n      <td>7.0</td>\n    </tr>\n    <tr>\n      <th>1</th>\n      <td>Blank Space (Taylor's Version)</td>\n      <td>0.0</td>\n    </tr>\n    <tr>\n      <th>2</th>\n      <td>Style (Taylor's Version)</td>\n      <td>11.0</td>\n    </tr>\n    <tr>\n      <th>3</th>\n      <td>Out Of The Woods (Taylor's Version)</td>\n      <td>0.0</td>\n    </tr>\n    <tr>\n      <th>4</th>\n      <td>All You Had To Do Was Stay (Taylor's Version)</td>\n      <td>0.0</td>\n    </tr>\n    <tr>\n      <th>...</th>\n      <td>...</td>\n      <td>...</td>\n    </tr>\n    <tr>\n      <th>534</th>\n      <td>Our Song</td>\n      <td>2.0</td>\n    </tr>\n    <tr>\n      <th>535</th>\n      <td>I'm Only Me When I'm With You</td>\n      <td>8.0</td>\n    </tr>\n    <tr>\n      <th>536</th>\n      <td>Invisible</td>\n      <td>7.0</td>\n    </tr>\n    <tr>\n      <th>537</th>\n      <td>A Perfectly Good Heart</td>\n      <td>4.0</td>\n    </tr>\n    <tr>\n      <th>538</th>\n      <td>Teardrops on My Guitar - Pop Version</td>\n      <td>10.0</td>\n    </tr>\n  </tbody>\n</table>\n<p>539 rows × 2 columns</p>\n</div>"
     },
     "execution_count": 295,
     "metadata": {},
     "output_type": "execute_result"
    }
   ],
   "source": [
    "# Datos diferentes a int\n",
    "df[~df['key'].apply(lambda x: isinstance(x, int))][['track_name', 'key']]"
   ],
   "metadata": {
    "collapsed": false,
    "ExecuteTime": {
     "end_time": "2024-01-09T04:42:40.742996900Z",
     "start_time": "2024-01-09T04:42:40.512313300Z"
    }
   },
   "id": "c3c12c554912eeed",
   "execution_count": 295
  },
  {
   "cell_type": "markdown",
   "source": [
    "**Observacion**: Segun la documentacion esta columna deberia tener datos de tipo int pero podemos ver que hay datos de tipo float.\n",
    "**Impacto potencial**: Afectaria la calidad de datos y analisis posteriores si quisiera trabajar con datos de tipo int.\n",
    "**Recomendaciones**: Lo ideal seria cambiar estos valores a tipo enteros."
   ],
   "metadata": {
    "collapsed": false
   },
   "id": "7c58f7551b3764c3"
  },
  {
   "cell_type": "markdown",
   "source": [
    "#### \"loudness\""
   ],
   "metadata": {
    "collapsed": false
   },
   "id": "bdac0e8f73dae738"
  },
  {
   "cell_type": "code",
   "outputs": [
    {
     "data": {
      "text/plain": "Empty DataFrame\nColumns: [track_name, loudness]\nIndex: []",
      "text/html": "<div>\n<style scoped>\n    .dataframe tbody tr th:only-of-type {\n        vertical-align: middle;\n    }\n\n    .dataframe tbody tr th {\n        vertical-align: top;\n    }\n\n    .dataframe thead th {\n        text-align: right;\n    }\n</style>\n<table border=\"1\" class=\"dataframe\">\n  <thead>\n    <tr style=\"text-align: right;\">\n      <th></th>\n      <th>track_name</th>\n      <th>loudness</th>\n    </tr>\n  </thead>\n  <tbody>\n  </tbody>\n</table>\n</div>"
     },
     "execution_count": 296,
     "metadata": {},
     "output_type": "execute_result"
    }
   ],
   "source": [
    "df[(df['loudness'] < -60) | (df['loudness'] > 0)][['track_name', 'loudness']]"
   ],
   "metadata": {
    "collapsed": false,
    "ExecuteTime": {
     "end_time": "2024-01-09T04:42:41.011813100Z",
     "start_time": "2024-01-09T04:42:40.696562300Z"
    }
   },
   "id": "945ee35f4ecb053a",
   "execution_count": 296
  },
  {
   "cell_type": "code",
   "outputs": [
    {
     "data": {
      "text/plain": "Empty DataFrame\nColumns: [track_name, loudness]\nIndex: []",
      "text/html": "<div>\n<style scoped>\n    .dataframe tbody tr th:only-of-type {\n        vertical-align: middle;\n    }\n\n    .dataframe tbody tr th {\n        vertical-align: top;\n    }\n\n    .dataframe thead th {\n        text-align: right;\n    }\n</style>\n<table border=\"1\" class=\"dataframe\">\n  <thead>\n    <tr style=\"text-align: right;\">\n      <th></th>\n      <th>track_name</th>\n      <th>loudness</th>\n    </tr>\n  </thead>\n  <tbody>\n  </tbody>\n</table>\n</div>"
     },
     "execution_count": 297,
     "metadata": {},
     "output_type": "execute_result"
    }
   ],
   "source": [
    "# Datos de tipo diferente a float\n",
    "df[~df['loudness'].apply(lambda x: isinstance(x, float))][['track_name', 'loudness']]"
   ],
   "metadata": {
    "collapsed": false,
    "ExecuteTime": {
     "end_time": "2024-01-09T04:42:41.253715100Z",
     "start_time": "2024-01-09T04:42:40.992891500Z"
    }
   },
   "id": "5dc05e773c87786",
   "execution_count": 297
  },
  {
   "cell_type": "markdown",
   "source": [
    "**Observacion**: Sin anomalias en los datos"
   ],
   "metadata": {
    "collapsed": false
   },
   "id": "5c1b37ff91d617d3"
  },
  {
   "cell_type": "markdown",
   "source": [
    "#### \"speechiness\""
   ],
   "metadata": {
    "collapsed": false
   },
   "id": "5e3bef200124f7df"
  },
  {
   "cell_type": "code",
   "outputs": [
    {
     "data": {
      "text/plain": "Empty DataFrame\nColumns: [track_name, speechiness]\nIndex: []",
      "text/html": "<div>\n<style scoped>\n    .dataframe tbody tr th:only-of-type {\n        vertical-align: middle;\n    }\n\n    .dataframe tbody tr th {\n        vertical-align: top;\n    }\n\n    .dataframe thead th {\n        text-align: right;\n    }\n</style>\n<table border=\"1\" class=\"dataframe\">\n  <thead>\n    <tr style=\"text-align: right;\">\n      <th></th>\n      <th>track_name</th>\n      <th>speechiness</th>\n    </tr>\n  </thead>\n  <tbody>\n  </tbody>\n</table>\n</div>"
     },
     "execution_count": 298,
     "metadata": {},
     "output_type": "execute_result"
    }
   ],
   "source": [
    "df[(df['speechiness'] < 0) | (df['speechiness'] > 1)][['track_name', 'speechiness']]"
   ],
   "metadata": {
    "collapsed": false,
    "ExecuteTime": {
     "end_time": "2024-01-09T04:42:41.551126500Z",
     "start_time": "2024-01-09T04:42:41.230490100Z"
    }
   },
   "id": "c958de00f232d256",
   "execution_count": 298
  },
  {
   "cell_type": "markdown",
   "source": [
    "**Observacion**: Sin anomalias en los datos"
   ],
   "metadata": {
    "collapsed": false
   },
   "id": "4ca5ae2f0240dbfa"
  },
  {
   "cell_type": "markdown",
   "source": [
    "#### \"acousticness\""
   ],
   "metadata": {
    "collapsed": false
   },
   "id": "14aca45353e26707"
  },
  {
   "cell_type": "code",
   "outputs": [
    {
     "data": {
      "text/plain": "                              track_name  acousticness\n1         Blank Space (Taylor's Version)      5.000000\n3    Out Of The Woods (Taylor's Version)     -0.000537\n6    I Wish You Would (Taylor's Version)     -0.003540\n527                A Place in this World      1.500000\n535        I'm Only Me When I'm With You      2.000000",
      "text/html": "<div>\n<style scoped>\n    .dataframe tbody tr th:only-of-type {\n        vertical-align: middle;\n    }\n\n    .dataframe tbody tr th {\n        vertical-align: top;\n    }\n\n    .dataframe thead th {\n        text-align: right;\n    }\n</style>\n<table border=\"1\" class=\"dataframe\">\n  <thead>\n    <tr style=\"text-align: right;\">\n      <th></th>\n      <th>track_name</th>\n      <th>acousticness</th>\n    </tr>\n  </thead>\n  <tbody>\n    <tr>\n      <th>1</th>\n      <td>Blank Space (Taylor's Version)</td>\n      <td>5.000000</td>\n    </tr>\n    <tr>\n      <th>3</th>\n      <td>Out Of The Woods (Taylor's Version)</td>\n      <td>-0.000537</td>\n    </tr>\n    <tr>\n      <th>6</th>\n      <td>I Wish You Would (Taylor's Version)</td>\n      <td>-0.003540</td>\n    </tr>\n    <tr>\n      <th>527</th>\n      <td>A Place in this World</td>\n      <td>1.500000</td>\n    </tr>\n    <tr>\n      <th>535</th>\n      <td>I'm Only Me When I'm With You</td>\n      <td>2.000000</td>\n    </tr>\n  </tbody>\n</table>\n</div>"
     },
     "execution_count": 299,
     "metadata": {},
     "output_type": "execute_result"
    }
   ],
   "source": [
    "df[(df['acousticness'] < 0) | (df['acousticness'] > 1)][['track_name', 'acousticness']]"
   ],
   "metadata": {
    "collapsed": false,
    "ExecuteTime": {
     "end_time": "2024-01-09T04:42:41.759859300Z",
     "start_time": "2024-01-09T04:42:41.529860Z"
    }
   },
   "id": "87b8485c1bd69110",
   "execution_count": 299
  },
  {
   "cell_type": "code",
   "outputs": [
    {
     "data": {
      "text/plain": "Empty DataFrame\nColumns: [track_name, acousticness]\nIndex: []",
      "text/html": "<div>\n<style scoped>\n    .dataframe tbody tr th:only-of-type {\n        vertical-align: middle;\n    }\n\n    .dataframe tbody tr th {\n        vertical-align: top;\n    }\n\n    .dataframe thead th {\n        text-align: right;\n    }\n</style>\n<table border=\"1\" class=\"dataframe\">\n  <thead>\n    <tr style=\"text-align: right;\">\n      <th></th>\n      <th>track_name</th>\n      <th>acousticness</th>\n    </tr>\n  </thead>\n  <tbody>\n  </tbody>\n</table>\n</div>"
     },
     "execution_count": 300,
     "metadata": {},
     "output_type": "execute_result"
    }
   ],
   "source": [
    "# Datos de tipo diferente a float\n",
    "df[~df['acousticness'].apply(lambda x: isinstance(x, float))][['track_name', 'acousticness']]"
   ],
   "metadata": {
    "collapsed": false,
    "ExecuteTime": {
     "end_time": "2024-01-09T04:42:42.122115200Z",
     "start_time": "2024-01-09T04:42:41.740993100Z"
    }
   },
   "id": "aeb0a6eeaad15add",
   "execution_count": 300
  },
  {
   "cell_type": "markdown",
   "source": [
    "**Observacion**: Segun la documentacion esta columna valores [0, 1] pero tenemos datos que superan este limite por lo que esto se considera un error.\n",
    "**Impacto potencial**: Afectaria la calidad de datos teniendo en cuenta los datos se encuentran en estos valores."
   ],
   "metadata": {
    "collapsed": false
   },
   "id": "dee3996c67b124b1"
  },
  {
   "cell_type": "markdown",
   "source": [
    "#### \"Instrumentalness\""
   ],
   "metadata": {
    "collapsed": false
   },
   "id": "12b6a6f0119da915"
  },
  {
   "cell_type": "code",
   "outputs": [
    {
     "ename": "TypeError",
     "evalue": "'<' not supported between instances of 'str' and 'int'",
     "output_type": "error",
     "traceback": [
      "\u001B[1;31m---------------------------------------------------------------------------\u001B[0m",
      "\u001B[1;31mTypeError\u001B[0m                                 Traceback (most recent call last)",
      "Cell \u001B[1;32mIn[301], line 1\u001B[0m\n\u001B[1;32m----> 1\u001B[0m df[(\u001B[43mdf\u001B[49m\u001B[43m[\u001B[49m\u001B[38;5;124;43m'\u001B[39;49m\u001B[38;5;124;43minstrumentalness\u001B[39;49m\u001B[38;5;124;43m'\u001B[39;49m\u001B[43m]\u001B[49m\u001B[43m \u001B[49m\u001B[38;5;241;43m<\u001B[39;49m\u001B[43m \u001B[49m\u001B[38;5;241;43m0\u001B[39;49m) \u001B[38;5;241m|\u001B[39m (df[\u001B[38;5;124m'\u001B[39m\u001B[38;5;124minstrumentalness\u001B[39m\u001B[38;5;124m'\u001B[39m] \u001B[38;5;241m>\u001B[39m \u001B[38;5;241m1\u001B[39m)][[\u001B[38;5;124m'\u001B[39m\u001B[38;5;124mtrack_name\u001B[39m\u001B[38;5;124m'\u001B[39m, \u001B[38;5;124m'\u001B[39m\u001B[38;5;124minstrumentalness\u001B[39m\u001B[38;5;124m'\u001B[39m]]\n",
      "File \u001B[1;32m~\\Downloads\\Data-Quality-Engineer-Prueba-Tecnica\\venv\\Lib\\site-packages\\pandas\\core\\ops\\common.py:76\u001B[0m, in \u001B[0;36m_unpack_zerodim_and_defer.<locals>.new_method\u001B[1;34m(self, other)\u001B[0m\n\u001B[0;32m     72\u001B[0m             \u001B[38;5;28;01mreturn\u001B[39;00m \u001B[38;5;28mNotImplemented\u001B[39m\n\u001B[0;32m     74\u001B[0m other \u001B[38;5;241m=\u001B[39m item_from_zerodim(other)\n\u001B[1;32m---> 76\u001B[0m \u001B[38;5;28;01mreturn\u001B[39;00m \u001B[43mmethod\u001B[49m\u001B[43m(\u001B[49m\u001B[38;5;28;43mself\u001B[39;49m\u001B[43m,\u001B[49m\u001B[43m \u001B[49m\u001B[43mother\u001B[49m\u001B[43m)\u001B[49m\n",
      "File \u001B[1;32m~\\Downloads\\Data-Quality-Engineer-Prueba-Tecnica\\venv\\Lib\\site-packages\\pandas\\core\\arraylike.py:48\u001B[0m, in \u001B[0;36mOpsMixin.__lt__\u001B[1;34m(self, other)\u001B[0m\n\u001B[0;32m     46\u001B[0m \u001B[38;5;129m@unpack_zerodim_and_defer\u001B[39m(\u001B[38;5;124m\"\u001B[39m\u001B[38;5;124m__lt__\u001B[39m\u001B[38;5;124m\"\u001B[39m)\n\u001B[0;32m     47\u001B[0m \u001B[38;5;28;01mdef\u001B[39;00m \u001B[38;5;21m__lt__\u001B[39m(\u001B[38;5;28mself\u001B[39m, other):\n\u001B[1;32m---> 48\u001B[0m     \u001B[38;5;28;01mreturn\u001B[39;00m \u001B[38;5;28;43mself\u001B[39;49m\u001B[38;5;241;43m.\u001B[39;49m\u001B[43m_cmp_method\u001B[49m\u001B[43m(\u001B[49m\u001B[43mother\u001B[49m\u001B[43m,\u001B[49m\u001B[43m \u001B[49m\u001B[43moperator\u001B[49m\u001B[38;5;241;43m.\u001B[39;49m\u001B[43mlt\u001B[49m\u001B[43m)\u001B[49m\n",
      "File \u001B[1;32m~\\Downloads\\Data-Quality-Engineer-Prueba-Tecnica\\venv\\Lib\\site-packages\\pandas\\core\\series.py:5803\u001B[0m, in \u001B[0;36mSeries._cmp_method\u001B[1;34m(self, other, op)\u001B[0m\n\u001B[0;32m   5800\u001B[0m lvalues \u001B[38;5;241m=\u001B[39m \u001B[38;5;28mself\u001B[39m\u001B[38;5;241m.\u001B[39m_values\n\u001B[0;32m   5801\u001B[0m rvalues \u001B[38;5;241m=\u001B[39m extract_array(other, extract_numpy\u001B[38;5;241m=\u001B[39m\u001B[38;5;28;01mTrue\u001B[39;00m, extract_range\u001B[38;5;241m=\u001B[39m\u001B[38;5;28;01mTrue\u001B[39;00m)\n\u001B[1;32m-> 5803\u001B[0m res_values \u001B[38;5;241m=\u001B[39m \u001B[43mops\u001B[49m\u001B[38;5;241;43m.\u001B[39;49m\u001B[43mcomparison_op\u001B[49m\u001B[43m(\u001B[49m\u001B[43mlvalues\u001B[49m\u001B[43m,\u001B[49m\u001B[43m \u001B[49m\u001B[43mrvalues\u001B[49m\u001B[43m,\u001B[49m\u001B[43m \u001B[49m\u001B[43mop\u001B[49m\u001B[43m)\u001B[49m\n\u001B[0;32m   5805\u001B[0m \u001B[38;5;28;01mreturn\u001B[39;00m \u001B[38;5;28mself\u001B[39m\u001B[38;5;241m.\u001B[39m_construct_result(res_values, name\u001B[38;5;241m=\u001B[39mres_name)\n",
      "File \u001B[1;32m~\\Downloads\\Data-Quality-Engineer-Prueba-Tecnica\\venv\\Lib\\site-packages\\pandas\\core\\ops\\array_ops.py:346\u001B[0m, in \u001B[0;36mcomparison_op\u001B[1;34m(left, right, op)\u001B[0m\n\u001B[0;32m    343\u001B[0m     \u001B[38;5;28;01mreturn\u001B[39;00m invalid_comparison(lvalues, rvalues, op)\n\u001B[0;32m    345\u001B[0m \u001B[38;5;28;01melif\u001B[39;00m lvalues\u001B[38;5;241m.\u001B[39mdtype \u001B[38;5;241m==\u001B[39m \u001B[38;5;28mobject\u001B[39m \u001B[38;5;129;01mor\u001B[39;00m \u001B[38;5;28misinstance\u001B[39m(rvalues, \u001B[38;5;28mstr\u001B[39m):\n\u001B[1;32m--> 346\u001B[0m     res_values \u001B[38;5;241m=\u001B[39m \u001B[43mcomp_method_OBJECT_ARRAY\u001B[49m\u001B[43m(\u001B[49m\u001B[43mop\u001B[49m\u001B[43m,\u001B[49m\u001B[43m \u001B[49m\u001B[43mlvalues\u001B[49m\u001B[43m,\u001B[49m\u001B[43m \u001B[49m\u001B[43mrvalues\u001B[49m\u001B[43m)\u001B[49m\n\u001B[0;32m    348\u001B[0m \u001B[38;5;28;01melse\u001B[39;00m:\n\u001B[0;32m    349\u001B[0m     res_values \u001B[38;5;241m=\u001B[39m _na_arithmetic_op(lvalues, rvalues, op, is_cmp\u001B[38;5;241m=\u001B[39m\u001B[38;5;28;01mTrue\u001B[39;00m)\n",
      "File \u001B[1;32m~\\Downloads\\Data-Quality-Engineer-Prueba-Tecnica\\venv\\Lib\\site-packages\\pandas\\core\\ops\\array_ops.py:131\u001B[0m, in \u001B[0;36mcomp_method_OBJECT_ARRAY\u001B[1;34m(op, x, y)\u001B[0m\n\u001B[0;32m    129\u001B[0m     result \u001B[38;5;241m=\u001B[39m libops\u001B[38;5;241m.\u001B[39mvec_compare(x\u001B[38;5;241m.\u001B[39mravel(), y\u001B[38;5;241m.\u001B[39mravel(), op)\n\u001B[0;32m    130\u001B[0m \u001B[38;5;28;01melse\u001B[39;00m:\n\u001B[1;32m--> 131\u001B[0m     result \u001B[38;5;241m=\u001B[39m \u001B[43mlibops\u001B[49m\u001B[38;5;241;43m.\u001B[39;49m\u001B[43mscalar_compare\u001B[49m\u001B[43m(\u001B[49m\u001B[43mx\u001B[49m\u001B[38;5;241;43m.\u001B[39;49m\u001B[43mravel\u001B[49m\u001B[43m(\u001B[49m\u001B[43m)\u001B[49m\u001B[43m,\u001B[49m\u001B[43m \u001B[49m\u001B[43my\u001B[49m\u001B[43m,\u001B[49m\u001B[43m \u001B[49m\u001B[43mop\u001B[49m\u001B[43m)\u001B[49m\n\u001B[0;32m    132\u001B[0m \u001B[38;5;28;01mreturn\u001B[39;00m result\u001B[38;5;241m.\u001B[39mreshape(x\u001B[38;5;241m.\u001B[39mshape)\n",
      "File \u001B[1;32mops.pyx:107\u001B[0m, in \u001B[0;36mpandas._libs.ops.scalar_compare\u001B[1;34m()\u001B[0m\n",
      "\u001B[1;31mTypeError\u001B[0m: '<' not supported between instances of 'str' and 'int'"
     ]
    }
   ],
   "source": [
    "df[(df['instrumentalness'] < 0) | (df['instrumentalness'] > 1)][['track_name', 'instrumentalness']]"
   ],
   "metadata": {
    "collapsed": false,
    "ExecuteTime": {
     "end_time": "2024-01-09T04:42:42.559952900Z",
     "start_time": "2024-01-09T04:42:42.045005100Z"
    }
   },
   "id": "1a21b0c47b952c1e",
   "execution_count": 301
  },
  {
   "cell_type": "code",
   "outputs": [
    {
     "data": {
      "text/plain": "                                        track_name instrumentalness\n0           Welcome To New York (Taylor's Version)         3.66e-05\n1                   Blank Space (Taylor's Version)                0\n2                         Style (Taylor's Version)           0.0197\n3              Out Of The Woods (Taylor's Version)         5.59e-05\n4    All You Had To Do Was Stay (Taylor's Version)                0\n..                                             ...              ...\n534                                       Our Song                0\n535                  I'm Only Me When I'm With You         0.000807\n536                                      Invisible                0\n537                         A Perfectly Good Heart                0\n538           Teardrops on My Guitar - Pop Version                0\n\n[539 rows x 2 columns]",
      "text/html": "<div>\n<style scoped>\n    .dataframe tbody tr th:only-of-type {\n        vertical-align: middle;\n    }\n\n    .dataframe tbody tr th {\n        vertical-align: top;\n    }\n\n    .dataframe thead th {\n        text-align: right;\n    }\n</style>\n<table border=\"1\" class=\"dataframe\">\n  <thead>\n    <tr style=\"text-align: right;\">\n      <th></th>\n      <th>track_name</th>\n      <th>instrumentalness</th>\n    </tr>\n  </thead>\n  <tbody>\n    <tr>\n      <th>0</th>\n      <td>Welcome To New York (Taylor's Version)</td>\n      <td>3.66e-05</td>\n    </tr>\n    <tr>\n      <th>1</th>\n      <td>Blank Space (Taylor's Version)</td>\n      <td>0</td>\n    </tr>\n    <tr>\n      <th>2</th>\n      <td>Style (Taylor's Version)</td>\n      <td>0.0197</td>\n    </tr>\n    <tr>\n      <th>3</th>\n      <td>Out Of The Woods (Taylor's Version)</td>\n      <td>5.59e-05</td>\n    </tr>\n    <tr>\n      <th>4</th>\n      <td>All You Had To Do Was Stay (Taylor's Version)</td>\n      <td>0</td>\n    </tr>\n    <tr>\n      <th>...</th>\n      <td>...</td>\n      <td>...</td>\n    </tr>\n    <tr>\n      <th>534</th>\n      <td>Our Song</td>\n      <td>0</td>\n    </tr>\n    <tr>\n      <th>535</th>\n      <td>I'm Only Me When I'm With You</td>\n      <td>0.000807</td>\n    </tr>\n    <tr>\n      <th>536</th>\n      <td>Invisible</td>\n      <td>0</td>\n    </tr>\n    <tr>\n      <th>537</th>\n      <td>A Perfectly Good Heart</td>\n      <td>0</td>\n    </tr>\n    <tr>\n      <th>538</th>\n      <td>Teardrops on My Guitar - Pop Version</td>\n      <td>0</td>\n    </tr>\n  </tbody>\n</table>\n<p>539 rows × 2 columns</p>\n</div>"
     },
     "execution_count": 302,
     "metadata": {},
     "output_type": "execute_result"
    }
   ],
   "source": [
    "# Datos de tipo diferente a float\n",
    "df[~df['instrumentalness'].apply(lambda x: isinstance(x, float))][['track_name', 'instrumentalness']]"
   ],
   "metadata": {
    "collapsed": false,
    "ExecuteTime": {
     "end_time": "2024-01-09T04:42:42.675163900Z",
     "start_time": "2024-01-09T04:42:42.339592200Z"
    }
   },
   "id": "8a472d7fe9c6a5aa",
   "execution_count": 302
  },
  {
   "cell_type": "code",
   "outputs": [
    {
     "data": {
      "text/plain": "array([<class 'str'>], dtype=object)"
     },
     "execution_count": 303,
     "metadata": {},
     "output_type": "execute_result"
    }
   ],
   "source": [
    "# Todos los tipos de datos en la columna\n",
    "df['instrumentalness'].apply(lambda x: type(x)).unique()"
   ],
   "metadata": {
    "collapsed": false,
    "ExecuteTime": {
     "end_time": "2024-01-09T04:42:43.249176200Z",
     "start_time": "2024-01-09T04:42:42.640734Z"
    }
   },
   "id": "350db5e612c9f2e",
   "execution_count": 303
  },
  {
   "cell_type": "markdown",
   "source": [
    "**Observacion**: En base a los 3 codigo podemos notar que tendriamos un error en el tipo de los datos ya que estos serian de tipo 'str' por lo que no podriamos determinar tampoco si superan el intervalo en base a la documentacion que es de [0, 1]\n",
    "**Impacto potencial**: Afectaria la calidad de datos y analisis posteriores si quisiera trabajar con datos de tipo float que son el tipo correspondiente segun la documentacion.\n",
    "**Recomendaciones**: Lo ideal seria cambiar estos valores a tipo float y cambiar la notacion cientifica en los mismos."
   ],
   "metadata": {
    "collapsed": false
   },
   "id": "dfe60151a16fb40b"
  },
  {
   "cell_type": "markdown",
   "source": [
    "#### \"liveness\""
   ],
   "metadata": {
    "collapsed": false
   },
   "id": "6b3d84a913c7f2f4"
  },
  {
   "cell_type": "code",
   "outputs": [
    {
     "data": {
      "text/plain": "Empty DataFrame\nColumns: [track_name, liveness]\nIndex: []",
      "text/html": "<div>\n<style scoped>\n    .dataframe tbody tr th:only-of-type {\n        vertical-align: middle;\n    }\n\n    .dataframe tbody tr th {\n        vertical-align: top;\n    }\n\n    .dataframe thead th {\n        text-align: right;\n    }\n</style>\n<table border=\"1\" class=\"dataframe\">\n  <thead>\n    <tr style=\"text-align: right;\">\n      <th></th>\n      <th>track_name</th>\n      <th>liveness</th>\n    </tr>\n  </thead>\n  <tbody>\n  </tbody>\n</table>\n</div>"
     },
     "execution_count": 304,
     "metadata": {},
     "output_type": "execute_result"
    }
   ],
   "source": [
    "df[(df['liveness'] < 0) | (df['liveness'] > 1)][['track_name', 'liveness']]"
   ],
   "metadata": {
    "collapsed": false,
    "ExecuteTime": {
     "end_time": "2024-01-09T04:42:43.396196400Z",
     "start_time": "2024-01-09T04:42:43.216433800Z"
    }
   },
   "id": "30767e7b067284ab",
   "execution_count": 304
  },
  {
   "cell_type": "code",
   "outputs": [
    {
     "data": {
      "text/plain": "Empty DataFrame\nColumns: [track_name, liveness]\nIndex: []",
      "text/html": "<div>\n<style scoped>\n    .dataframe tbody tr th:only-of-type {\n        vertical-align: middle;\n    }\n\n    .dataframe tbody tr th {\n        vertical-align: top;\n    }\n\n    .dataframe thead th {\n        text-align: right;\n    }\n</style>\n<table border=\"1\" class=\"dataframe\">\n  <thead>\n    <tr style=\"text-align: right;\">\n      <th></th>\n      <th>track_name</th>\n      <th>liveness</th>\n    </tr>\n  </thead>\n  <tbody>\n  </tbody>\n</table>\n</div>"
     },
     "execution_count": 305,
     "metadata": {},
     "output_type": "execute_result"
    }
   ],
   "source": [
    "# Datos de tipo diferente a float\n",
    "df[~df['liveness'].apply(lambda x: isinstance(x, float))][['track_name', 'liveness']]"
   ],
   "metadata": {
    "collapsed": false,
    "ExecuteTime": {
     "end_time": "2024-01-09T04:42:43.629823400Z",
     "start_time": "2024-01-09T04:42:43.405781300Z"
    }
   },
   "id": "a9250778d4321dd8",
   "execution_count": 305
  },
  {
   "cell_type": "markdown",
   "source": [
    "**Observacion**: Sin anomalias en los datos"
   ],
   "metadata": {
    "collapsed": false
   },
   "id": "3800639c5bac6828"
  },
  {
   "cell_type": "markdown",
   "source": [
    "#### \"valence\"  "
   ],
   "metadata": {
    "collapsed": false
   },
   "id": "92f7505066c862da"
  },
  {
   "cell_type": "code",
   "outputs": [
    {
     "data": {
      "text/plain": "Empty DataFrame\nColumns: [track_name, valence]\nIndex: []",
      "text/html": "<div>\n<style scoped>\n    .dataframe tbody tr th:only-of-type {\n        vertical-align: middle;\n    }\n\n    .dataframe tbody tr th {\n        vertical-align: top;\n    }\n\n    .dataframe thead th {\n        text-align: right;\n    }\n</style>\n<table border=\"1\" class=\"dataframe\">\n  <thead>\n    <tr style=\"text-align: right;\">\n      <th></th>\n      <th>track_name</th>\n      <th>valence</th>\n    </tr>\n  </thead>\n  <tbody>\n  </tbody>\n</table>\n</div>"
     },
     "execution_count": 306,
     "metadata": {},
     "output_type": "execute_result"
    }
   ],
   "source": [
    "df[(df['valence'] < 0) | (df['valence'] > 1)][['track_name', 'valence']]"
   ],
   "metadata": {
    "collapsed": false,
    "ExecuteTime": {
     "end_time": "2024-01-09T04:42:44.119951500Z",
     "start_time": "2024-01-09T04:42:43.593387100Z"
    }
   },
   "id": "a4cbc9bfa17f1e67",
   "execution_count": 306
  },
  {
   "cell_type": "code",
   "outputs": [
    {
     "data": {
      "text/plain": "Empty DataFrame\nColumns: [track_name, valence]\nIndex: []",
      "text/html": "<div>\n<style scoped>\n    .dataframe tbody tr th:only-of-type {\n        vertical-align: middle;\n    }\n\n    .dataframe tbody tr th {\n        vertical-align: top;\n    }\n\n    .dataframe thead th {\n        text-align: right;\n    }\n</style>\n<table border=\"1\" class=\"dataframe\">\n  <thead>\n    <tr style=\"text-align: right;\">\n      <th></th>\n      <th>track_name</th>\n      <th>valence</th>\n    </tr>\n  </thead>\n  <tbody>\n  </tbody>\n</table>\n</div>"
     },
     "execution_count": 307,
     "metadata": {},
     "output_type": "execute_result"
    }
   ],
   "source": [
    "# Datos de tipo diferente a float\n",
    "df[~df['valence'].apply(lambda x: isinstance(x, float))][['track_name', 'valence']]"
   ],
   "metadata": {
    "collapsed": false,
    "ExecuteTime": {
     "end_time": "2024-01-09T04:42:44.428782500Z",
     "start_time": "2024-01-09T04:42:44.103538400Z"
    }
   },
   "id": "3c4e64a8a2818393",
   "execution_count": 307
  },
  {
   "cell_type": "markdown",
   "source": [
    "**Observacion**: Sin anomalias en los datos"
   ],
   "metadata": {
    "collapsed": false
   },
   "id": "a6e6313d858a89ae"
  },
  {
   "cell_type": "markdown",
   "source": [
    "#### \"tempo\""
   ],
   "metadata": {
    "collapsed": false
   },
   "id": "3f4758af2f8a1160"
  },
  {
   "cell_type": "code",
   "outputs": [
    {
     "data": {
      "text/plain": "Empty DataFrame\nColumns: [track_name, tempo]\nIndex: []",
      "text/html": "<div>\n<style scoped>\n    .dataframe tbody tr th:only-of-type {\n        vertical-align: middle;\n    }\n\n    .dataframe tbody tr th {\n        vertical-align: top;\n    }\n\n    .dataframe thead th {\n        text-align: right;\n    }\n</style>\n<table border=\"1\" class=\"dataframe\">\n  <thead>\n    <tr style=\"text-align: right;\">\n      <th></th>\n      <th>track_name</th>\n      <th>tempo</th>\n    </tr>\n  </thead>\n  <tbody>\n  </tbody>\n</table>\n</div>"
     },
     "execution_count": 308,
     "metadata": {},
     "output_type": "execute_result"
    }
   ],
   "source": [
    "df[df['tempo'] < 0][['track_name', 'tempo']]"
   ],
   "metadata": {
    "collapsed": false,
    "ExecuteTime": {
     "end_time": "2024-01-09T04:42:44.639414700Z",
     "start_time": "2024-01-09T04:42:44.327173400Z"
    }
   },
   "id": "de59f017e49eb6ab",
   "execution_count": 308
  },
  {
   "cell_type": "code",
   "outputs": [
    {
     "data": {
      "text/plain": "Empty DataFrame\nColumns: [track_name, tempo]\nIndex: []",
      "text/html": "<div>\n<style scoped>\n    .dataframe tbody tr th:only-of-type {\n        vertical-align: middle;\n    }\n\n    .dataframe tbody tr th {\n        vertical-align: top;\n    }\n\n    .dataframe thead th {\n        text-align: right;\n    }\n</style>\n<table border=\"1\" class=\"dataframe\">\n  <thead>\n    <tr style=\"text-align: right;\">\n      <th></th>\n      <th>track_name</th>\n      <th>tempo</th>\n    </tr>\n  </thead>\n  <tbody>\n  </tbody>\n</table>\n</div>"
     },
     "execution_count": 309,
     "metadata": {},
     "output_type": "execute_result"
    }
   ],
   "source": [
    "# Datos de tipo diferente a float\n",
    "df[~df['tempo'].apply(lambda x: isinstance(x, float))][['track_name', 'tempo']]"
   ],
   "metadata": {
    "collapsed": false,
    "ExecuteTime": {
     "end_time": "2024-01-09T04:42:45.026693700Z",
     "start_time": "2024-01-09T04:42:44.587539200Z"
    }
   },
   "id": "c4aa45fc4989d215",
   "execution_count": 309
  },
  {
   "cell_type": "markdown",
   "source": [
    "**Observacion**: Sin anomalias en los datos"
   ],
   "metadata": {
    "collapsed": false
   },
   "id": "39d2c812217afa07"
  },
  {
   "cell_type": "markdown",
   "source": [
    "#### \"time_signature\""
   ],
   "metadata": {
    "collapsed": false
   },
   "id": "8f0dd7b0bd10c876"
  },
  {
   "cell_type": "code",
   "outputs": [
    {
     "data": {
      "text/plain": "Empty DataFrame\nColumns: [track_name, time_signature]\nIndex: []",
      "text/html": "<div>\n<style scoped>\n    .dataframe tbody tr th:only-of-type {\n        vertical-align: middle;\n    }\n\n    .dataframe tbody tr th {\n        vertical-align: top;\n    }\n\n    .dataframe thead th {\n        text-align: right;\n    }\n</style>\n<table border=\"1\" class=\"dataframe\">\n  <thead>\n    <tr style=\"text-align: right;\">\n      <th></th>\n      <th>track_name</th>\n      <th>time_signature</th>\n    </tr>\n  </thead>\n  <tbody>\n  </tbody>\n</table>\n</div>"
     },
     "execution_count": 310,
     "metadata": {},
     "output_type": "execute_result"
    }
   ],
   "source": [
    "df[(df['time_signature'] < 3) | (df['time_signature'] > 7)][['track_name', 'time_signature']]"
   ],
   "metadata": {
    "collapsed": false,
    "ExecuteTime": {
     "end_time": "2024-01-09T04:42:45.214139900Z",
     "start_time": "2024-01-09T04:42:45.028332600Z"
    }
   },
   "id": "62c852c9d5aeeb5e",
   "execution_count": 310
  },
  {
   "cell_type": "code",
   "outputs": [
    {
     "data": {
      "text/plain": "                                        track_name  time_signature\n0           Welcome To New York (Taylor's Version)             4.0\n1                   Blank Space (Taylor's Version)             4.0\n2                         Style (Taylor's Version)             4.0\n3              Out Of The Woods (Taylor's Version)             4.0\n4    All You Had To Do Was Stay (Taylor's Version)             4.0\n..                                             ...             ...\n534                                       Our Song             4.0\n535                  I'm Only Me When I'm With You             4.0\n536                                      Invisible             4.0\n537                         A Perfectly Good Heart             4.0\n538           Teardrops on My Guitar - Pop Version             4.0\n\n[539 rows x 2 columns]",
      "text/html": "<div>\n<style scoped>\n    .dataframe tbody tr th:only-of-type {\n        vertical-align: middle;\n    }\n\n    .dataframe tbody tr th {\n        vertical-align: top;\n    }\n\n    .dataframe thead th {\n        text-align: right;\n    }\n</style>\n<table border=\"1\" class=\"dataframe\">\n  <thead>\n    <tr style=\"text-align: right;\">\n      <th></th>\n      <th>track_name</th>\n      <th>time_signature</th>\n    </tr>\n  </thead>\n  <tbody>\n    <tr>\n      <th>0</th>\n      <td>Welcome To New York (Taylor's Version)</td>\n      <td>4.0</td>\n    </tr>\n    <tr>\n      <th>1</th>\n      <td>Blank Space (Taylor's Version)</td>\n      <td>4.0</td>\n    </tr>\n    <tr>\n      <th>2</th>\n      <td>Style (Taylor's Version)</td>\n      <td>4.0</td>\n    </tr>\n    <tr>\n      <th>3</th>\n      <td>Out Of The Woods (Taylor's Version)</td>\n      <td>4.0</td>\n    </tr>\n    <tr>\n      <th>4</th>\n      <td>All You Had To Do Was Stay (Taylor's Version)</td>\n      <td>4.0</td>\n    </tr>\n    <tr>\n      <th>...</th>\n      <td>...</td>\n      <td>...</td>\n    </tr>\n    <tr>\n      <th>534</th>\n      <td>Our Song</td>\n      <td>4.0</td>\n    </tr>\n    <tr>\n      <th>535</th>\n      <td>I'm Only Me When I'm With You</td>\n      <td>4.0</td>\n    </tr>\n    <tr>\n      <th>536</th>\n      <td>Invisible</td>\n      <td>4.0</td>\n    </tr>\n    <tr>\n      <th>537</th>\n      <td>A Perfectly Good Heart</td>\n      <td>4.0</td>\n    </tr>\n    <tr>\n      <th>538</th>\n      <td>Teardrops on My Guitar - Pop Version</td>\n      <td>4.0</td>\n    </tr>\n  </tbody>\n</table>\n<p>539 rows × 2 columns</p>\n</div>"
     },
     "execution_count": 311,
     "metadata": {},
     "output_type": "execute_result"
    }
   ],
   "source": [
    "# Datos de tipo diferente a int\n",
    "df[~df['time_signature'].apply(lambda x: isinstance(x, int))][['track_name', 'time_signature']]"
   ],
   "metadata": {
    "collapsed": false,
    "ExecuteTime": {
     "end_time": "2024-01-09T04:42:45.825962200Z",
     "start_time": "2024-01-09T04:42:45.175913800Z"
    }
   },
   "id": "a15cac19ab473073",
   "execution_count": 311
  },
  {
   "cell_type": "code",
   "outputs": [
    {
     "data": {
      "text/plain": "array([<class 'float'>], dtype=object)"
     },
     "execution_count": 312,
     "metadata": {},
     "output_type": "execute_result"
    }
   ],
   "source": [
    "# Todos los tipos de datos en la columna\n",
    "df['time_signature'].apply(lambda x: type(x)).unique()"
   ],
   "metadata": {
    "collapsed": false,
    "ExecuteTime": {
     "end_time": "2024-01-09T04:42:46.022265100Z",
     "start_time": "2024-01-09T04:42:45.788988800Z"
    }
   },
   "id": "d0e462fcd9939349",
   "execution_count": 312
  },
  {
   "cell_type": "markdown",
   "source": [
    "**Observacion**: En base al analisis y teniendo en cuenta la documentacioon, estos datos deberian ser de tipo entero por lo que estariamos hablando de un error en el tipo de datos.\n",
    "**Impacto potencial**: Afectaria la calidad de datos y analisis posteriores si quisiera trabajar con datos de tipo int que es al cual corresponden segun la documentacion.\n",
    "**Recomendaciones**: Lo ideal seria cambiar estos valores a tipo int."
   ],
   "metadata": {
    "collapsed": false
   },
   "id": "ace58e350bcdfc7"
  },
  {
   "cell_type": "markdown",
   "source": [
    "## Outliers\n",
    "- Se omiten valores negativos para un mejor analisis en algunas columnas ya que estos datos fueron analizar anteriormente."
   ],
   "metadata": {
    "collapsed": false
   },
   "id": "450be2bc3aae7294"
  },
  {
   "cell_type": "markdown",
   "source": [
    "### \"duration_ms\""
   ],
   "metadata": {
    "collapsed": false
   },
   "id": "93470ff6f38d2f5"
  },
  {
   "cell_type": "code",
   "outputs": [
    {
     "data": {
      "text/plain": "<Figure size 1800x600 with 1 Axes>",
      "image/png": "[encoded data removed]"
     },
     "metadata": {},
     "output_type": "display_data"
    }
   ],
   "source": [
    "plt.figure(figsize=(18, 6))\n",
    "sns.boxplot(x=df[df['duration_ms'] > 0]['duration_ms'], color='lightblue')\n",
    "plt.show()\n"
   ],
   "metadata": {
    "collapsed": false,
    "ExecuteTime": {
     "end_time": "2024-01-09T04:42:47.140276600Z",
     "start_time": "2024-01-09T04:42:46.008962900Z"
    }
   },
   "id": "4ede8717e09cc8e1",
   "execution_count": 313
  },
  {
   "cell_type": "markdown",
   "source": [
    "**Visualizamos en el dataframe mas a detalle aquellos datos que son sospechosos en el intervalo de [0, 100000] ms**"
   ],
   "metadata": {
    "collapsed": false
   },
   "id": "2af0e34dd68fe208"
  },
  {
   "cell_type": "code",
   "outputs": [
    {
     "data": {
      "text/plain": "                      track_name  duration_ms\n420       Everything Has Changed           10\n432             Mean - Live/2011         1000\n440  I Want You Back - Live/2011        83253\n472                    Long Live         3000",
      "text/html": "<div>\n<style scoped>\n    .dataframe tbody tr th:only-of-type {\n        vertical-align: middle;\n    }\n\n    .dataframe tbody tr th {\n        vertical-align: top;\n    }\n\n    .dataframe thead th {\n        text-align: right;\n    }\n</style>\n<table border=\"1\" class=\"dataframe\">\n  <thead>\n    <tr style=\"text-align: right;\">\n      <th></th>\n      <th>track_name</th>\n      <th>duration_ms</th>\n    </tr>\n  </thead>\n  <tbody>\n    <tr>\n      <th>420</th>\n      <td>Everything Has Changed</td>\n      <td>10</td>\n    </tr>\n    <tr>\n      <th>432</th>\n      <td>Mean - Live/2011</td>\n      <td>1000</td>\n    </tr>\n    <tr>\n      <th>440</th>\n      <td>I Want You Back - Live/2011</td>\n      <td>83253</td>\n    </tr>\n    <tr>\n      <th>472</th>\n      <td>Long Live</td>\n      <td>3000</td>\n    </tr>\n  </tbody>\n</table>\n</div>"
     },
     "execution_count": 314,
     "metadata": {},
     "output_type": "execute_result"
    }
   ],
   "source": [
    "df[(df['duration_ms'] > 0) & (df['duration_ms'] < 100000)][['track_name', 'duration_ms']]"
   ],
   "metadata": {
    "collapsed": false,
    "ExecuteTime": {
     "end_time": "2024-01-09T04:42:47.246300Z",
     "start_time": "2024-01-09T04:42:46.962047300Z"
    }
   },
   "id": "8d963e95ae333815",
   "execution_count": 314
  },
  {
   "cell_type": "markdown",
   "source": [
    "**Observacion**: Podemos ver que hay 4 canciones que tienen una duracion bastante baja comparado al promedio, de las cuales queda comprobado que \"I Want You Back - Live/2011\" si tiene una duracion bastante baja, pero las otras 3 son errones y mas si hablamos de ms\n",
    "**Impacto potencial**: Afectaria la calidad de datos y la logica de los datos en cuanto al tiempo que duran las canciones.\n",
    "**Recomendaciones**: Lo ideal seria reemplazar estos valores por la duracion original de la cancion."
   ],
   "metadata": {
    "collapsed": false
   },
   "id": "47fd46aa72692e6f"
  },
  {
   "cell_type": "markdown",
   "source": [
    "### \"track_popularity\""
   ],
   "metadata": {
    "collapsed": false
   },
   "id": "3271f6732d9c9da8"
  },
  {
   "cell_type": "code",
   "outputs": [
    {
     "data": {
      "text/plain": "<Figure size 1800x600 with 1 Axes>",
      "image/png": "[encoded data removed]"
     },
     "metadata": {},
     "output_type": "display_data"
    }
   ],
   "source": [
    "plt.figure(figsize=(18, 6))\n",
    "sns.boxplot(x=df[df['track_popularity'] > 0]['track_popularity'], color='lightblue')\n",
    "plt.show()"
   ],
   "metadata": {
    "collapsed": false,
    "ExecuteTime": {
     "end_time": "2024-01-09T04:42:48.268937100Z",
     "start_time": "2024-01-09T04:42:47.003574Z"
    }
   },
   "id": "2fe2512967b2212b",
   "execution_count": 315
  },
  {
   "cell_type": "markdown",
   "source": [
    " **Visualizamos en el dataframe mas a detalle aquellos el dato sospechoso que supera el intervalo ...100]**"
   ],
   "metadata": {
    "collapsed": false
   },
   "id": "bf08dee7531f6a67"
  },
  {
   "cell_type": "code",
   "outputs": [
    {
     "data": {
      "text/plain": "    track_name  track_popularity\n472  Long Live               152",
      "text/html": "<div>\n<style scoped>\n    .dataframe tbody tr th:only-of-type {\n        vertical-align: middle;\n    }\n\n    .dataframe tbody tr th {\n        vertical-align: top;\n    }\n\n    .dataframe thead th {\n        text-align: right;\n    }\n</style>\n<table border=\"1\" class=\"dataframe\">\n  <thead>\n    <tr style=\"text-align: right;\">\n      <th></th>\n      <th>track_name</th>\n      <th>track_popularity</th>\n    </tr>\n  </thead>\n  <tbody>\n    <tr>\n      <th>472</th>\n      <td>Long Live</td>\n      <td>152</td>\n    </tr>\n  </tbody>\n</table>\n</div>"
     },
     "execution_count": 316,
     "metadata": {},
     "output_type": "execute_result"
    }
   ],
   "source": [
    "df[(df['track_popularity'] > 100)][['track_name', 'track_popularity']]"
   ],
   "metadata": {
    "collapsed": false,
    "ExecuteTime": {
     "end_time": "2024-01-09T04:42:48.632771500Z",
     "start_time": "2024-01-09T04:42:47.755392500Z"
    }
   },
   "id": "45ca9cd5825b66b5",
   "execution_count": 316
  },
  {
   "cell_type": "markdown",
   "source": [
    "**Observacion**: Como bien se vio en la seccion de analisis general de datos en la columna \"track_popularity\" tenemos valores que superan el intervalo de [0, 100] por lo que estos valores serian outliers.\n",
    "**Impacto potencial**: Afectaria la calidad de datos y analisis posteriores.\n",
    "**Recomendaciones**: Lo ideal seria modficiar este dato buscando en lo posible si esta cancion se repite en otro album y reemplazar ese valor por el mas coherentemente correcto."
   ],
   "metadata": {
    "collapsed": false
   },
   "id": "81afa4554a0bea60"
  },
  {
   "cell_type": "markdown",
   "source": [
    "### \"danceability\""
   ],
   "metadata": {
    "collapsed": false
   },
   "id": "fcffdc2d3906b89f"
  },
  {
   "cell_type": "code",
   "outputs": [
    {
     "data": {
      "text/plain": "<Figure size 1800x600 with 1 Axes>",
      "image/png": "[encoded data removed]"
     },
     "metadata": {},
     "output_type": "display_data"
    }
   ],
   "source": [
    "plt.figure(figsize=(18, 6))\n",
    "sns.boxplot(x=df[df['danceability'] > 0]['danceability'], color='lightblue')\n",
    "plt.show()"
   ],
   "metadata": {
    "collapsed": false,
    "ExecuteTime": {
     "end_time": "2024-01-09T04:42:48.829713Z",
     "start_time": "2024-01-09T04:42:47.871367800Z"
    }
   },
   "id": "e3cba6b038f6215a",
   "execution_count": 317
  },
  {
   "cell_type": "markdown",
   "source": [
    "**Observacion**: Sin anomalias en los datos."
   ],
   "metadata": {
    "collapsed": false
   },
   "id": "b8300ab708cb96cd"
  }
 ],
 "metadata": {
  "kernelspec": {
   "display_name": "Python 3",
   "language": "python",
   "name": "python3"
  },
  "language_info": {
   "codemirror_mode": {
    "name": "ipython",
    "version": 2
   },
   "file_extension": ".py",
   "mimetype": "text/x-python",
   "name": "python",
   "nbconvert_exporter": "python",
   "pygments_lexer": "ipython2",
   "version": "2.7.6"
  }
 },
 "nbformat": 4,
 "nbformat_minor": 5
}
